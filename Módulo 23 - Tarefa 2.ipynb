{
 "cells": [
  {
   "cell_type": "markdown",
   "id": "f08aabe9",
   "metadata": {},
   "source": [
    "# Módulo 23 - Tarefa 02\n"
   ]
  },
  {
   "cell_type": "markdown",
   "id": "e8cee82b",
   "metadata": {},
   "source": [
    "- Monte um passo a passo para o algoritmo Random Forest\n",
    "- Explique com suas palavras o Random Forest\n",
    "- Qual a diferença entre Bagging e Random Forest?\n",
    "\n"
   ]
  },
  {
   "cell_type": "markdown",
   "id": "0eeaaeac",
   "metadata": {},
   "source": [
    "**Random Forest**\n"
   ]
  },
  {
   "cell_type": "markdown",
   "id": "073d8e73",
   "metadata": {},
   "source": [
    "Assim como o Bagging, Random Forest também é um método de aprendizagem em conjunto (Ensemble Learning) para classificações, regressões e algumas outras tarefas e funciona construindo várias árvores de decisão. Normalmente uma árvore de decisão com grande profundidade tende a aprender padrões irregulares e acaba ocorrendo overfitting com a base de treino. O Random Forest é uma maneira de calcular uma média de várias árvores com grande profundidade treinadas em diferentes partes do mesmo conjunto de treinamento, com o objetivo de reduzir a variância.\n",
    "\n"
   ]
  },
  {
   "cell_type": "markdown",
   "id": "22dc8dfb",
   "metadata": {},
   "source": [
    "**Passo a Passo**"
   ]
  },
  {
   "cell_type": "markdown",
   "id": "80ab8ff8",
   "metadata": {},
   "source": [
    "**Feature Bagging**"
   ]
  },
  {
   "cell_type": "markdown",
   "id": "1ad83657",
   "metadata": {},
   "source": [
    "O algoritmo de treinamento para a Random Forest aplica a técnica geral do Bootstrap Aggregating (Bagging) com uma pequena modificação dividindo também as colunas com as variáveis explicativas do modelo. Dado uma base treinamento **D** com *p* colunas de variáveis explicativas $X_i$ e uma coluna com a variável resposta $Y$ , $m$ novas bases de dados $D_i$ com $\\sqrt[2]{p}$ (arredondado para baixo) colunas de variáveis explicativas para um problema de classificação ou $p/3$ (arredondado para baixo) colunas de variáveis explicativas para um problema de regressão, recomenda-se também um tamanho mínimo de nó de valor 5. As colunas de variáveis explicativas devem ser selecionadas aleatóriamente e as linhas para as novas bases de dados de treino devem ser selecionadas da base de treino original de maneira aleatóriamente e com reposição."
   ]
  },
  {
   "cell_type": "markdown",
   "id": "21bc6a8c",
   "metadata": {},
   "source": [
    "# Modelagem"
   ]
  },
  {
   "cell_type": "markdown",
   "id": "59389393",
   "metadata": {},
   "source": [
    "Depois de criadas as bases de treino $D_i$ aplicamos o método de aprendizado de árvore (Árvore de Decisão) a cada uma das $m$ bases de treino $D_i$"
   ]
  },
  {
   "cell_type": "markdown",
   "id": "b6580926",
   "metadata": {},
   "source": [
    "# Resultado"
   ]
  },
  {
   "cell_type": "markdown",
   "id": "14d344f4",
   "metadata": {},
   "source": [
    "Depois de ajustarmos $m$  modelos utilizando as $m$ amostras obtidas no Feature Bagging, combinamos os resultados por sua média (para modelos de regressão) ou por votação (para modelos de classificação).\n",
    "\n"
   ]
  },
  {
   "cell_type": "markdown",
   "id": "c5ed884c",
   "metadata": {},
   "source": [
    "# Diferença entre Bagging e Random Forest"
   ]
  },
  {
   "cell_type": "markdown",
   "id": "295f62ea",
   "metadata": {},
   "source": [
    "Random Forest é focado em utilizarmos modelos de Árvore de Decisão, já o Bagging é mais aberto a outros modelos, por exemplo os de regressão linear ou logistica. Na hora de separar a base de treino inicial o Bagging leva em conta apenas as linhas, já o Random Forest utiliza também uma separação nas colunas."
   ]
  },
  {
   "cell_type": "code",
   "execution_count": null,
   "id": "be0ee041",
   "metadata": {},
   "outputs": [],
   "source": []
  }
 ],
 "metadata": {
  "kernelspec": {
   "display_name": "Python 3 (ipykernel)",
   "language": "python",
   "name": "python3"
  },
  "language_info": {
   "codemirror_mode": {
    "name": "ipython",
    "version": 3
   },
   "file_extension": ".py",
   "mimetype": "text/x-python",
   "name": "python",
   "nbconvert_exporter": "python",
   "pygments_lexer": "ipython3",
   "version": "3.9.12"
  }
 },
 "nbformat": 4,
 "nbformat_minor": 5
}
