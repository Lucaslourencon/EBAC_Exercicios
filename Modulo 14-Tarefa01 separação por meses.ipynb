{
 "cells": [
  {
   "cell_type": "code",
   "execution_count": 1,
   "metadata": {},
   "outputs": [],
   "source": [
    "import pandas as pd\n",
    "import seaborn as sns\n",
    "import matplotlib.pyplot as plt\n",
    "import os\n",
    "import sys"
   ]
  },
  {
   "cell_type": "code",
   "execution_count": 10,
   "metadata": {},
   "outputs": [
    {
     "data": {
      "text/plain": [
       "0        02\n",
       "1        02\n",
       "2        02\n",
       "3        03\n",
       "4        03\n",
       "         ..\n",
       "27023    12\n",
       "27024    10\n",
       "27025    08\n",
       "27026    12\n",
       "27027    12\n",
       "Name: mes, Length: 27028, dtype: object"
      ]
     },
     "execution_count": 10,
     "metadata": {},
     "output_type": "execute_result"
    }
   ],
   "source": [
    "base = pd.read_csv('sinasc_RO.csv')\n",
    "\n",
    "mes= base['DTNASC']\n",
    "mes_lista= []\n",
    "for i in mes:\n",
    "    data_slice= str(i)\n",
    "    data_final= data_slice[5:7]\n",
    "    mes_lista.append(data_final)\n",
    "    \n",
    "base['mes']= mes_lista\n",
    "\n",
    "base['mes']"
   ]
  },
  {
   "cell_type": "code",
   "execution_count": 12,
   "metadata": {},
   "outputs": [],
   "source": [
    "base_mar= base[base['mes']=='03']\n",
    "base_mar['DTNASC'].max(),\n",
    "base_mar['DTNASC'].min()\n",
    "\n",
    "base_mar.to_csv('sinasc_RO_MAR.csv')"
   ]
  },
  {
   "cell_type": "code",
   "execution_count": 13,
   "metadata": {},
   "outputs": [],
   "source": [
    "base_mar= base[base['mes']=='04']\n",
    "base_mar['DTNASC'].max(),\n",
    "base_mar['DTNASC'].min()\n",
    "\n",
    "base_mar.to_csv('sinasc_RO_Abr.csv')"
   ]
  },
  {
   "cell_type": "code",
   "execution_count": 14,
   "metadata": {},
   "outputs": [],
   "source": [
    "base_mar= base[base['mes']=='05']\n",
    "base_mar['DTNASC'].max(),\n",
    "base_mar['DTNASC'].min()\n",
    "\n",
    "base_mar.to_csv('sinasc_RO_MAI.csv')"
   ]
  },
  {
   "cell_type": "code",
   "execution_count": 15,
   "metadata": {},
   "outputs": [],
   "source": [
    "base_mar= base[base['mes']=='06']\n",
    "base_mar['DTNASC'].max(),\n",
    "base_mar['DTNASC'].min()\n",
    "\n",
    "base_mar.to_csv('sinasc_RO_JUN.csv')"
   ]
  },
  {
   "cell_type": "code",
   "execution_count": 16,
   "metadata": {},
   "outputs": [],
   "source": [
    "base_mar= base[base['mes']=='12']\n",
    "base_mar['DTNASC'].max(),\n",
    "base_mar['DTNASC'].min()\n",
    "\n",
    "base_mar.to_csv('sinasc_RO_DEZ.csv')"
   ]
  },
  {
   "cell_type": "code",
   "execution_count": null,
   "metadata": {},
   "outputs": [],
   "source": []
  }
 ],
 "metadata": {
  "kernelspec": {
   "display_name": "Python 3 (ipykernel)",
   "language": "python",
   "name": "python3"
  },
  "language_info": {
   "codemirror_mode": {
    "name": "ipython",
    "version": 3
   },
   "file_extension": ".py",
   "mimetype": "text/x-python",
   "name": "python",
   "nbconvert_exporter": "python",
   "pygments_lexer": "ipython3",
   "version": "3.9.12"
  },
  "varInspector": {
   "cols": {
    "lenName": 16,
    "lenType": 16,
    "lenVar": 40
   },
   "kernels_config": {
    "python": {
     "delete_cmd_postfix": "",
     "delete_cmd_prefix": "del ",
     "library": "var_list.py",
     "varRefreshCmd": "print(var_dic_list())"
    },
    "r": {
     "delete_cmd_postfix": ") ",
     "delete_cmd_prefix": "rm(",
     "library": "var_list.r",
     "varRefreshCmd": "cat(var_dic_list()) "
    }
   },
   "types_to_exclude": [
    "module",
    "function",
    "builtin_function_or_method",
    "instance",
    "_Feature"
   ],
   "window_display": false
  }
 },
 "nbformat": 4,
 "nbformat_minor": 4
}
