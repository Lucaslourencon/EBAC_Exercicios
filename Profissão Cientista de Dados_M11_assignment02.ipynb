{
 "cells": [
  {
   "cell_type": "markdown",
   "metadata": {},
   "source": [
    "## Árvores de regressão - exercícios 02\n",
    "\n",
    "Este exercício será uma continuação do anterior, mesma base, mesmas variáveis - vamos tentar buscar a 'melhor árvore'.\n",
    "\n",
    "A descrição das variáveis está abaixo:"
   ]
  },
  {
   "cell_type": "markdown",
   "metadata": {},
   "source": [
    "| Variavel | Descrição|\n",
    "|-|-|\n",
    "|CRIM| taxa de crimes per-cápita da cidade | \n",
    "|ZN| proporção de terrenos residenciais zoneados para lotes com mais de 25.000 pés quadrados. |\n",
    "|INDUS| proporção de acres de negócios não varejistas por cidade |\n",
    "|CHAS |vale 1 se o terreno faz fronteira com o *Charles River*; 0 caso contrário |\n",
    "|NOX| Concentração de óxido nítrico (em partes por 10 milhões) |\n",
    "|RM| número médio de quartos por habitação |\n",
    "|AGE| proporção de unidades ocupadas pelo proprietário construídas antes de 1940 |\n",
    "|DIS| distâncias ponderadas até cinco centros de empregos de Boston |\n",
    "|RAD| índice de acessibilidade a rodovias radiais |\n",
    "|TAX| taxa de imposto sobre a propriedade de valor total por \\\\$10,000 |\n",
    "|PTRATIO| razão pupilo-professor da cidade |\n",
    "|B| $ 1000 (Bk - 0,63) ^ 2 $ onde Bk é a proporção de negros por cidade |\n",
    "|LSTAT| \\%status inferior da população |\n",
    "|MEDV| (variável resposta) Valor mediano das casas ocupadas pelo proprietário em US $ 1.000|"
   ]
  },
  {
   "cell_type": "code",
   "execution_count": 1,
   "metadata": {},
   "outputs": [
    {
     "name": "stderr",
     "output_type": "stream",
     "text": [
      "C:\\Users\\BOI\\Anaconda\\lib\\site-packages\\sklearn\\utils\\deprecation.py:87: FutureWarning: Function load_boston is deprecated; `load_boston` is deprecated in 1.0 and will be removed in 1.2.\n",
      "\n",
      "    The Boston housing prices dataset has an ethical problem. You can refer to\n",
      "    the documentation of this function for further details.\n",
      "\n",
      "    The scikit-learn maintainers therefore strongly discourage the use of this\n",
      "    dataset unless the purpose of the code is to study and educate about\n",
      "    ethical issues in data science and machine learning.\n",
      "\n",
      "    In this special case, you can fetch the dataset from the original\n",
      "    source::\n",
      "\n",
      "        import pandas as pd\n",
      "        import numpy as np\n",
      "\n",
      "\n",
      "        data_url = \"http://lib.stat.cmu.edu/datasets/boston\"\n",
      "        raw_df = pd.read_csv(data_url, sep=\"\\s+\", skiprows=22, header=None)\n",
      "        data = np.hstack([raw_df.values[::2, :], raw_df.values[1::2, :2]])\n",
      "        target = raw_df.values[1::2, 2]\n",
      "\n",
      "    Alternative datasets include the California housing dataset (i.e.\n",
      "    :func:`~sklearn.datasets.fetch_california_housing`) and the Ames housing\n",
      "    dataset. You can load the datasets as follows::\n",
      "\n",
      "        from sklearn.datasets import fetch_california_housing\n",
      "        housing = fetch_california_housing()\n",
      "\n",
      "    for the California housing dataset and::\n",
      "\n",
      "        from sklearn.datasets import fetch_openml\n",
      "        housing = fetch_openml(name=\"house_prices\", as_frame=True)\n",
      "\n",
      "    for the Ames housing dataset.\n",
      "    \n",
      "  warnings.warn(msg, category=FutureWarning)\n"
     ]
    }
   ],
   "source": [
    "import pandas as pd\n",
    "\n",
    "import seaborn as sns\n",
    "\n",
    "from sklearn import datasets\n",
    "from sklearn.tree import DecisionTreeRegressor\n",
    "from sklearn import tree\n",
    "from sklearn.model_selection import train_test_split\n",
    "\n",
    "\n",
    "boston = datasets.load_boston()\n",
    "X = pd.DataFrame(boston.data, columns = boston.feature_names)\n",
    "y = pd.DataFrame(boston.target, columns = ['MEDV'])"
   ]
  },
  {
   "cell_type": "code",
   "execution_count": 2,
   "metadata": {},
   "outputs": [
    {
     "data": {
      "text/html": [
       "<div>\n",
       "<style scoped>\n",
       "    .dataframe tbody tr th:only-of-type {\n",
       "        vertical-align: middle;\n",
       "    }\n",
       "\n",
       "    .dataframe tbody tr th {\n",
       "        vertical-align: top;\n",
       "    }\n",
       "\n",
       "    .dataframe thead th {\n",
       "        text-align: right;\n",
       "    }\n",
       "</style>\n",
       "<table border=\"1\" class=\"dataframe\">\n",
       "  <thead>\n",
       "    <tr style=\"text-align: right;\">\n",
       "      <th></th>\n",
       "      <th>CRIM</th>\n",
       "      <th>ZN</th>\n",
       "      <th>INDUS</th>\n",
       "      <th>CHAS</th>\n",
       "      <th>NOX</th>\n",
       "      <th>RM</th>\n",
       "      <th>AGE</th>\n",
       "      <th>DIS</th>\n",
       "      <th>RAD</th>\n",
       "      <th>TAX</th>\n",
       "      <th>PTRATIO</th>\n",
       "      <th>B</th>\n",
       "      <th>LSTAT</th>\n",
       "    </tr>\n",
       "  </thead>\n",
       "  <tbody>\n",
       "    <tr>\n",
       "      <th>0</th>\n",
       "      <td>0.00632</td>\n",
       "      <td>18.0</td>\n",
       "      <td>2.31</td>\n",
       "      <td>0.0</td>\n",
       "      <td>0.538</td>\n",
       "      <td>6.575</td>\n",
       "      <td>65.2</td>\n",
       "      <td>4.0900</td>\n",
       "      <td>1.0</td>\n",
       "      <td>296.0</td>\n",
       "      <td>15.3</td>\n",
       "      <td>396.90</td>\n",
       "      <td>4.98</td>\n",
       "    </tr>\n",
       "    <tr>\n",
       "      <th>1</th>\n",
       "      <td>0.02731</td>\n",
       "      <td>0.0</td>\n",
       "      <td>7.07</td>\n",
       "      <td>0.0</td>\n",
       "      <td>0.469</td>\n",
       "      <td>6.421</td>\n",
       "      <td>78.9</td>\n",
       "      <td>4.9671</td>\n",
       "      <td>2.0</td>\n",
       "      <td>242.0</td>\n",
       "      <td>17.8</td>\n",
       "      <td>396.90</td>\n",
       "      <td>9.14</td>\n",
       "    </tr>\n",
       "    <tr>\n",
       "      <th>2</th>\n",
       "      <td>0.02729</td>\n",
       "      <td>0.0</td>\n",
       "      <td>7.07</td>\n",
       "      <td>0.0</td>\n",
       "      <td>0.469</td>\n",
       "      <td>7.185</td>\n",
       "      <td>61.1</td>\n",
       "      <td>4.9671</td>\n",
       "      <td>2.0</td>\n",
       "      <td>242.0</td>\n",
       "      <td>17.8</td>\n",
       "      <td>392.83</td>\n",
       "      <td>4.03</td>\n",
       "    </tr>\n",
       "    <tr>\n",
       "      <th>3</th>\n",
       "      <td>0.03237</td>\n",
       "      <td>0.0</td>\n",
       "      <td>2.18</td>\n",
       "      <td>0.0</td>\n",
       "      <td>0.458</td>\n",
       "      <td>6.998</td>\n",
       "      <td>45.8</td>\n",
       "      <td>6.0622</td>\n",
       "      <td>3.0</td>\n",
       "      <td>222.0</td>\n",
       "      <td>18.7</td>\n",
       "      <td>394.63</td>\n",
       "      <td>2.94</td>\n",
       "    </tr>\n",
       "    <tr>\n",
       "      <th>4</th>\n",
       "      <td>0.06905</td>\n",
       "      <td>0.0</td>\n",
       "      <td>2.18</td>\n",
       "      <td>0.0</td>\n",
       "      <td>0.458</td>\n",
       "      <td>7.147</td>\n",
       "      <td>54.2</td>\n",
       "      <td>6.0622</td>\n",
       "      <td>3.0</td>\n",
       "      <td>222.0</td>\n",
       "      <td>18.7</td>\n",
       "      <td>396.90</td>\n",
       "      <td>5.33</td>\n",
       "    </tr>\n",
       "  </tbody>\n",
       "</table>\n",
       "</div>"
      ],
      "text/plain": [
       "      CRIM    ZN  INDUS  CHAS    NOX     RM   AGE     DIS  RAD    TAX  \\\n",
       "0  0.00632  18.0   2.31   0.0  0.538  6.575  65.2  4.0900  1.0  296.0   \n",
       "1  0.02731   0.0   7.07   0.0  0.469  6.421  78.9  4.9671  2.0  242.0   \n",
       "2  0.02729   0.0   7.07   0.0  0.469  7.185  61.1  4.9671  2.0  242.0   \n",
       "3  0.03237   0.0   2.18   0.0  0.458  6.998  45.8  6.0622  3.0  222.0   \n",
       "4  0.06905   0.0   2.18   0.0  0.458  7.147  54.2  6.0622  3.0  222.0   \n",
       "\n",
       "   PTRATIO       B  LSTAT  \n",
       "0     15.3  396.90   4.98  \n",
       "1     17.8  396.90   9.14  \n",
       "2     17.8  392.83   4.03  \n",
       "3     18.7  394.63   2.94  \n",
       "4     18.7  396.90   5.33  "
      ]
     },
     "execution_count": 2,
     "metadata": {},
     "output_type": "execute_result"
    }
   ],
   "source": [
    "X.head()"
   ]
  },
  {
   "cell_type": "code",
   "execution_count": 3,
   "metadata": {},
   "outputs": [
    {
     "data": {
      "text/html": [
       "<div>\n",
       "<style scoped>\n",
       "    .dataframe tbody tr th:only-of-type {\n",
       "        vertical-align: middle;\n",
       "    }\n",
       "\n",
       "    .dataframe tbody tr th {\n",
       "        vertical-align: top;\n",
       "    }\n",
       "\n",
       "    .dataframe thead th {\n",
       "        text-align: right;\n",
       "    }\n",
       "</style>\n",
       "<table border=\"1\" class=\"dataframe\">\n",
       "  <thead>\n",
       "    <tr style=\"text-align: right;\">\n",
       "      <th></th>\n",
       "      <th>MEDV</th>\n",
       "    </tr>\n",
       "  </thead>\n",
       "  <tbody>\n",
       "    <tr>\n",
       "      <th>0</th>\n",
       "      <td>24.0</td>\n",
       "    </tr>\n",
       "    <tr>\n",
       "      <th>1</th>\n",
       "      <td>21.6</td>\n",
       "    </tr>\n",
       "    <tr>\n",
       "      <th>2</th>\n",
       "      <td>34.7</td>\n",
       "    </tr>\n",
       "    <tr>\n",
       "      <th>3</th>\n",
       "      <td>33.4</td>\n",
       "    </tr>\n",
       "    <tr>\n",
       "      <th>4</th>\n",
       "      <td>36.2</td>\n",
       "    </tr>\n",
       "  </tbody>\n",
       "</table>\n",
       "</div>"
      ],
      "text/plain": [
       "   MEDV\n",
       "0  24.0\n",
       "1  21.6\n",
       "2  34.7\n",
       "3  33.4\n",
       "4  36.2"
      ]
     },
     "execution_count": 3,
     "metadata": {},
     "output_type": "execute_result"
    }
   ],
   "source": [
    "y.head()"
   ]
  },
  {
   "cell_type": "markdown",
   "metadata": {},
   "source": [
    "### 1. Execute os passos do exercício anterior, até que você tenha uma árvore de regressão predizendo o valor do imóvel na base de treinamento."
   ]
  },
  {
   "cell_type": "code",
   "execution_count": 7,
   "metadata": {},
   "outputs": [
    {
     "data": {
      "text/html": [
       "<div>\n",
       "<style scoped>\n",
       "    .dataframe tbody tr th:only-of-type {\n",
       "        vertical-align: middle;\n",
       "    }\n",
       "\n",
       "    .dataframe tbody tr th {\n",
       "        vertical-align: top;\n",
       "    }\n",
       "\n",
       "    .dataframe thead th {\n",
       "        text-align: right;\n",
       "    }\n",
       "</style>\n",
       "<table border=\"1\" class=\"dataframe\">\n",
       "  <thead>\n",
       "    <tr style=\"text-align: right;\">\n",
       "      <th></th>\n",
       "      <th>RM</th>\n",
       "      <th>LSTAT</th>\n",
       "      <th>MEDV</th>\n",
       "    </tr>\n",
       "  </thead>\n",
       "  <tbody>\n",
       "    <tr>\n",
       "      <th>0</th>\n",
       "      <td>6.575</td>\n",
       "      <td>4.98</td>\n",
       "      <td>24.0</td>\n",
       "    </tr>\n",
       "    <tr>\n",
       "      <th>1</th>\n",
       "      <td>6.421</td>\n",
       "      <td>9.14</td>\n",
       "      <td>21.6</td>\n",
       "    </tr>\n",
       "    <tr>\n",
       "      <th>2</th>\n",
       "      <td>7.185</td>\n",
       "      <td>4.03</td>\n",
       "      <td>34.7</td>\n",
       "    </tr>\n",
       "    <tr>\n",
       "      <th>3</th>\n",
       "      <td>6.998</td>\n",
       "      <td>2.94</td>\n",
       "      <td>33.4</td>\n",
       "    </tr>\n",
       "    <tr>\n",
       "      <th>4</th>\n",
       "      <td>7.147</td>\n",
       "      <td>5.33</td>\n",
       "      <td>36.2</td>\n",
       "    </tr>\n",
       "  </tbody>\n",
       "</table>\n",
       "</div>"
      ],
      "text/plain": [
       "      RM  LSTAT  MEDV\n",
       "0  6.575   4.98  24.0\n",
       "1  6.421   9.14  21.6\n",
       "2  7.185   4.03  34.7\n",
       "3  6.998   2.94  33.4\n",
       "4  7.147   5.33  36.2"
      ]
     },
     "execution_count": 7,
     "metadata": {},
     "output_type": "execute_result"
    }
   ],
   "source": [
    "boston_raw = pd.concat([X, y], axis=1)\n",
    "boston_a = boston_raw[['RM', 'LSTAT', 'MEDV']].copy()\n",
    "boston_a.head()"
   ]
  },
  {
   "cell_type": "code",
   "execution_count": 8,
   "metadata": {},
   "outputs": [
    {
     "data": {
      "text/html": [
       "<div>\n",
       "<style scoped>\n",
       "    .dataframe tbody tr th:only-of-type {\n",
       "        vertical-align: middle;\n",
       "    }\n",
       "\n",
       "    .dataframe tbody tr th {\n",
       "        vertical-align: top;\n",
       "    }\n",
       "\n",
       "    .dataframe thead th {\n",
       "        text-align: right;\n",
       "    }\n",
       "</style>\n",
       "<table border=\"1\" class=\"dataframe\">\n",
       "  <thead>\n",
       "    <tr style=\"text-align: right;\">\n",
       "      <th></th>\n",
       "      <th>RM</th>\n",
       "      <th>LSTAT</th>\n",
       "    </tr>\n",
       "  </thead>\n",
       "  <tbody>\n",
       "    <tr>\n",
       "      <th>0</th>\n",
       "      <td>6.575</td>\n",
       "      <td>4.98</td>\n",
       "    </tr>\n",
       "    <tr>\n",
       "      <th>1</th>\n",
       "      <td>6.421</td>\n",
       "      <td>9.14</td>\n",
       "    </tr>\n",
       "    <tr>\n",
       "      <th>2</th>\n",
       "      <td>7.185</td>\n",
       "      <td>4.03</td>\n",
       "    </tr>\n",
       "    <tr>\n",
       "      <th>3</th>\n",
       "      <td>6.998</td>\n",
       "      <td>2.94</td>\n",
       "    </tr>\n",
       "    <tr>\n",
       "      <th>4</th>\n",
       "      <td>7.147</td>\n",
       "      <td>5.33</td>\n",
       "    </tr>\n",
       "  </tbody>\n",
       "</table>\n",
       "</div>"
      ],
      "text/plain": [
       "      RM  LSTAT\n",
       "0  6.575   4.98\n",
       "1  6.421   9.14\n",
       "2  7.185   4.03\n",
       "3  6.998   2.94\n",
       "4  7.147   5.33"
      ]
     },
     "execution_count": 8,
     "metadata": {},
     "output_type": "execute_result"
    }
   ],
   "source": [
    "X_a = boston_a.drop(columns = ['MEDV']).copy()\n",
    "X_a.head()"
   ]
  },
  {
   "cell_type": "code",
   "execution_count": 9,
   "metadata": {},
   "outputs": [
    {
     "data": {
      "text/plain": [
       "0    24.0\n",
       "1    21.6\n",
       "2    34.7\n",
       "3    33.4\n",
       "4    36.2\n",
       "Name: MEDV, dtype: float64"
      ]
     },
     "execution_count": 9,
     "metadata": {},
     "output_type": "execute_result"
    }
   ],
   "source": [
    "y_a = boston_a.loc[:,'MEDV']\n",
    "y_a.head()"
   ]
  },
  {
   "cell_type": "code",
   "execution_count": 10,
   "metadata": {},
   "outputs": [],
   "source": [
    "X_train, X_test, y_train, y_test = train_test_split(X_a, y_a, random_state=2360873)"
   ]
  },
  {
   "cell_type": "code",
   "execution_count": 11,
   "metadata": {},
   "outputs": [
    {
     "data": {
      "text/plain": [
       "DecisionTreeRegressor(max_depth=8, min_samples_leaf=10)"
      ]
     },
     "execution_count": 11,
     "metadata": {},
     "output_type": "execute_result"
    }
   ],
   "source": [
    "regr_a = DecisionTreeRegressor(max_depth=8, min_samples_leaf=10)\n",
    "\n",
    "regr_a.fit(X_train, y_train)"
   ]
  },
  {
   "cell_type": "markdown",
   "metadata": {},
   "source": [
    "### 2.  Calcule o caminho indicado pelos CCP-alfas dessa árvore."
   ]
  },
  {
   "cell_type": "code",
   "execution_count": 14,
   "metadata": {},
   "outputs": [
    {
     "data": {
      "text/plain": [
       "{'ccp_alphas': array([0.00000000e+00, 2.11081794e-04, 3.29815303e-04, 6.33245383e-04,\n",
       "        6.46437995e-04, 8.61917326e-04, 1.06860158e-03, 1.51978892e-03,\n",
       "        1.58751099e-03, 2.58575198e-03, 2.96833773e-03, 2.96833773e-03,\n",
       "        4.28627968e-03, 8.13104661e-03, 1.10883905e-02, 1.37906772e-02,\n",
       "        1.43607446e-02, 1.58861038e-02, 1.98438874e-02, 1.98954186e-02,\n",
       "        2.21679859e-02, 2.26567891e-02, 2.42561765e-02, 2.55648837e-02,\n",
       "        2.59180074e-02, 2.61807388e-02, 2.81802990e-02, 3.00989446e-02,\n",
       "        3.07554969e-02, 3.12407338e-02, 4.59234828e-02, 4.70453217e-02,\n",
       "        4.94010554e-02, 5.05609115e-02, 5.35092348e-02, 5.72129607e-02,\n",
       "        5.73928100e-02, 5.87858799e-02, 6.11210044e-02, 6.11534112e-02,\n",
       "        6.19709344e-02, 6.22015957e-02, 6.33622314e-02, 6.79802111e-02,\n",
       "        7.09278804e-02, 7.20338610e-02, 7.22427441e-02, 7.87659025e-02,\n",
       "        7.94036731e-02, 8.66794195e-02, 9.55295891e-02, 1.04097684e-01,\n",
       "        1.06636512e-01, 1.24116095e-01, 1.28916321e-01, 1.30174184e-01,\n",
       "        1.34994257e-01, 1.38558864e-01, 1.43562584e-01, 1.58141291e-01,\n",
       "        1.64327262e-01, 1.77958925e-01, 1.79184128e-01, 2.07558685e-01,\n",
       "        2.28903235e-01, 2.31351684e-01, 2.34113420e-01, 3.06948737e-01,\n",
       "        3.24868238e-01, 3.62220756e-01, 3.69466432e-01, 4.21899893e-01,\n",
       "        6.79141279e-01, 7.86976447e-01, 8.76702946e-01, 8.77319324e-01,\n",
       "        1.19694341e+00, 1.55245502e+00, 1.84431565e+00, 4.52477476e+00,\n",
       "        5.28170375e+00, 1.70606107e+01, 4.16718568e+01]),\n",
       " 'impurities': array([ 3.50904694,  3.50925802,  3.50958783,  3.51022108,  3.51086752,\n",
       "         3.51172944,  3.51279804,  3.51583761,  3.51742513,  3.52001088,\n",
       "         3.52297922,  3.52594755,  3.53023383,  3.53836488,  3.54945327,\n",
       "         3.56324395,  3.57760469,  3.5934908 ,  3.61333468,  3.6332301 ,\n",
       "         3.65539809,  3.67805488,  3.70231105,  3.72787594,  3.75379394,\n",
       "         3.77997468,  3.80815498,  3.83825393,  3.86900942,  3.90025016,\n",
       "         3.94617364,  3.99321896,  4.04262002,  4.09318093,  4.14669016,\n",
       "         4.20390312,  4.31868874,  4.49504638,  4.55616739,  4.6173208 ,\n",
       "         4.67929173,  4.74149333,  4.80485556,  4.87283577,  4.94376365,\n",
       "         5.01579751,  5.08804026,  5.16680616,  5.24620983,  5.41956867,\n",
       "         5.51509826,  5.72329363,  5.82993014,  5.95404624,  6.08296256,\n",
       "         6.21313674,  6.48312526,  6.89880185,  7.04236443,  7.20050573,\n",
       "         7.36483299,  7.72075084,  7.89993497,  8.31505234,  8.54395557,\n",
       "         9.23801062,  9.47212404,  9.77907278, 10.10394102, 10.46616178,\n",
       "        10.83562821, 11.2575281 , 12.61581066, 14.97674   , 15.85344295,\n",
       "        16.73076227, 17.92770568, 19.4801607 , 21.32447635, 25.84925111,\n",
       "        31.13095486, 48.19156561, 89.86342242])}"
      ]
     },
     "execution_count": 14,
     "metadata": {},
     "output_type": "execute_result"
    }
   ],
   "source": [
    "path = regr_1.cost_complexity_pruning_path(X_train, y_train)\n",
    "\n",
    "path"
   ]
  },
  {
   "cell_type": "code",
   "execution_count": 15,
   "metadata": {},
   "outputs": [
    {
     "ename": "NameError",
     "evalue": "name 'plt' is not defined",
     "output_type": "error",
     "traceback": [
      "\u001b[1;31m---------------------------------------------------------------------------\u001b[0m",
      "\u001b[1;31mNameError\u001b[0m                                 Traceback (most recent call last)",
      "Input \u001b[1;32mIn [15]\u001b[0m, in \u001b[0;36m<cell line: 3>\u001b[1;34m()\u001b[0m\n\u001b[0;32m      1\u001b[0m ccp_alphas, impurities \u001b[38;5;241m=\u001b[39m path\u001b[38;5;241m.\u001b[39mccp_alphas, path\u001b[38;5;241m.\u001b[39mimpurities\n\u001b[1;32m----> 3\u001b[0m \u001b[43mplt\u001b[49m\u001b[38;5;241m.\u001b[39mfigure(figsize \u001b[38;5;241m=\u001b[39m (\u001b[38;5;241m10\u001b[39m, \u001b[38;5;241m6\u001b[39m))\n\u001b[0;32m      4\u001b[0m plt\u001b[38;5;241m.\u001b[39mplot(ccp_alphas, impurities)\n\u001b[0;32m      5\u001b[0m plt\u001b[38;5;241m.\u001b[39mxlabel(\u001b[38;5;124m\"\u001b[39m\u001b[38;5;124mAlpha efetivo\u001b[39m\u001b[38;5;124m\"\u001b[39m)\n",
      "\u001b[1;31mNameError\u001b[0m: name 'plt' is not defined"
     ]
    }
   ],
   "source": [
    "ccp_alphas, impurities = path.ccp_alphas, path.impurities\n",
    "\n",
    "plt.figure(figsize = (10, 6))\n",
    "plt.plot(ccp_alphas, impurities)\n",
    "plt.xlabel(\"Alpha efetivo\")\n",
    "plt.ylabel(\"Impureza total das folhas\")"
   ]
  },
  {
   "cell_type": "code",
   "execution_count": null,
   "metadata": {},
   "outputs": [],
   "source": []
  },
  {
   "cell_type": "markdown",
   "metadata": {},
   "source": [
    "### 3. Paca cada valor de alpha obtido no item 2, treine uma árvore com o respectivo alfa, e guarde essa árvore em uma lista."
   ]
  },
  {
   "cell_type": "code",
   "execution_count": 16,
   "metadata": {},
   "outputs": [],
   "source": [
    "clfs = []\n",
    "\n",
    "for ccp_alpha in ccp_alphas:\n",
    "    clf = DecisionTreeRegressor(random_state = 0, ccp_alpha = ccp_alpha)\n",
    "    clf.fit(X_train, y_train)\n",
    "    clfs.append(clf)"
   ]
  },
  {
   "cell_type": "code",
   "execution_count": 17,
   "metadata": {},
   "outputs": [
    {
     "data": {
      "text/plain": [
       "[DecisionTreeRegressor(random_state=0),\n",
       " DecisionTreeRegressor(ccp_alpha=0.00021108179419528366, random_state=0),\n",
       " DecisionTreeRegressor(ccp_alpha=0.00032981530343007914, random_state=0),\n",
       " DecisionTreeRegressor(ccp_alpha=0.000633245382585326, random_state=0),\n",
       " DecisionTreeRegressor(ccp_alpha=0.0006464379947238671, random_state=0),\n",
       " DecisionTreeRegressor(ccp_alpha=0.0008619173262922902, random_state=0),\n",
       " DecisionTreeRegressor(ccp_alpha=0.0010686015831118847, random_state=0),\n",
       " DecisionTreeRegressor(ccp_alpha=0.0015197889182142614, random_state=0),\n",
       " DecisionTreeRegressor(ccp_alpha=0.0015875109938465032, random_state=0),\n",
       " DecisionTreeRegressor(ccp_alpha=0.0025857519788915688, random_state=0),\n",
       " DecisionTreeRegressor(ccp_alpha=0.002968337730870712, random_state=0),\n",
       " DecisionTreeRegressor(ccp_alpha=0.002968337730870712, random_state=0),\n",
       " DecisionTreeRegressor(ccp_alpha=0.0042862796833848405, random_state=0),\n",
       " DecisionTreeRegressor(ccp_alpha=0.008131046613896322, random_state=0),\n",
       " DecisionTreeRegressor(ccp_alpha=0.011088390501317725, random_state=0),\n",
       " DecisionTreeRegressor(ccp_alpha=0.013790677220756206, random_state=0),\n",
       " DecisionTreeRegressor(ccp_alpha=0.014360744649659463, random_state=0),\n",
       " DecisionTreeRegressor(ccp_alpha=0.015886103781881947, random_state=0),\n",
       " DecisionTreeRegressor(ccp_alpha=0.019843887423040496, random_state=0),\n",
       " DecisionTreeRegressor(ccp_alpha=0.019895418565604728, random_state=0),\n",
       " DecisionTreeRegressor(ccp_alpha=0.022167985927881072, random_state=0),\n",
       " DecisionTreeRegressor(ccp_alpha=0.02265678912116294, random_state=0),\n",
       " DecisionTreeRegressor(ccp_alpha=0.02425617654113288, random_state=0),\n",
       " DecisionTreeRegressor(ccp_alpha=0.025564883665125465, random_state=0),\n",
       " DecisionTreeRegressor(ccp_alpha=0.025918007419626438, random_state=0),\n",
       " DecisionTreeRegressor(ccp_alpha=0.02618073878627792, random_state=0),\n",
       " DecisionTreeRegressor(ccp_alpha=0.028180299032534026, random_state=0),\n",
       " DecisionTreeRegressor(ccp_alpha=0.030098944591029846, random_state=0),\n",
       " DecisionTreeRegressor(ccp_alpha=0.03075549692172362, random_state=0),\n",
       " DecisionTreeRegressor(ccp_alpha=0.031240733760522596, random_state=0),\n",
       " DecisionTreeRegressor(ccp_alpha=0.04592348284960175, random_state=0),\n",
       " DecisionTreeRegressor(ccp_alpha=0.04704532169678097, random_state=0),\n",
       " DecisionTreeRegressor(ccp_alpha=0.04940105540897037, random_state=0),\n",
       " DecisionTreeRegressor(ccp_alpha=0.050560911530609556, random_state=0),\n",
       " DecisionTreeRegressor(ccp_alpha=0.053509234828495664, random_state=0),\n",
       " DecisionTreeRegressor(ccp_alpha=0.057212960741983815, random_state=0),\n",
       " DecisionTreeRegressor(ccp_alpha=0.05739281002638498, random_state=0),\n",
       " DecisionTreeRegressor(ccp_alpha=0.0587858799072461, random_state=0),\n",
       " DecisionTreeRegressor(ccp_alpha=0.06112100443562091, random_state=0),\n",
       " DecisionTreeRegressor(ccp_alpha=0.061153411232567276, random_state=0),\n",
       " DecisionTreeRegressor(ccp_alpha=0.06197093437197987, random_state=0),\n",
       " DecisionTreeRegressor(ccp_alpha=0.062201595677851745, random_state=0),\n",
       " DecisionTreeRegressor(ccp_alpha=0.06336223143612751, random_state=0),\n",
       " DecisionTreeRegressor(ccp_alpha=0.06798021108179358, random_state=0),\n",
       " DecisionTreeRegressor(ccp_alpha=0.07092788038698357, random_state=0),\n",
       " DecisionTreeRegressor(ccp_alpha=0.0720338610378187, random_state=0),\n",
       " DecisionTreeRegressor(ccp_alpha=0.07224274406332452, random_state=0),\n",
       " DecisionTreeRegressor(ccp_alpha=0.07876590252315885, random_state=0),\n",
       " DecisionTreeRegressor(ccp_alpha=0.07940367307351115, random_state=0),\n",
       " DecisionTreeRegressor(ccp_alpha=0.08667941952506775, random_state=0),\n",
       " DecisionTreeRegressor(ccp_alpha=0.0955295891443973, random_state=0),\n",
       " DecisionTreeRegressor(ccp_alpha=0.10409768446334827, random_state=0),\n",
       " DecisionTreeRegressor(ccp_alpha=0.10663651212464165, random_state=0),\n",
       " DecisionTreeRegressor(ccp_alpha=0.1241160949868052, random_state=0),\n",
       " DecisionTreeRegressor(ccp_alpha=0.1289163211458729, random_state=0),\n",
       " DecisionTreeRegressor(ccp_alpha=0.13017418436143946, random_state=0),\n",
       " DecisionTreeRegressor(ccp_alpha=0.13499425733354475, random_state=0),\n",
       " DecisionTreeRegressor(ccp_alpha=0.1385588641789354, random_state=0),\n",
       " DecisionTreeRegressor(ccp_alpha=0.14356258367657815, random_state=0),\n",
       " DecisionTreeRegressor(ccp_alpha=0.15814129142621686, random_state=0),\n",
       " DecisionTreeRegressor(ccp_alpha=0.16432726244731516, random_state=0),\n",
       " DecisionTreeRegressor(ccp_alpha=0.17795892486543197, random_state=0),\n",
       " DecisionTreeRegressor(ccp_alpha=0.17918412827270988, random_state=0),\n",
       " DecisionTreeRegressor(ccp_alpha=0.20755868519254955, random_state=0),\n",
       " DecisionTreeRegressor(ccp_alpha=0.22890323546474822, random_state=0),\n",
       " DecisionTreeRegressor(ccp_alpha=0.23135168412131582, random_state=0),\n",
       " DecisionTreeRegressor(ccp_alpha=0.2341134195619679, random_state=0),\n",
       " DecisionTreeRegressor(ccp_alpha=0.306948737278555, random_state=0),\n",
       " DecisionTreeRegressor(ccp_alpha=0.32486823799727116, random_state=0),\n",
       " DecisionTreeRegressor(ccp_alpha=0.36222075637643064, random_state=0),\n",
       " DecisionTreeRegressor(ccp_alpha=0.3694664321313268, random_state=0),\n",
       " DecisionTreeRegressor(ccp_alpha=0.4218998932026694, random_state=0),\n",
       " DecisionTreeRegressor(ccp_alpha=0.679141279345103, random_state=0),\n",
       " DecisionTreeRegressor(ccp_alpha=0.786976447376471, random_state=0),\n",
       " DecisionTreeRegressor(ccp_alpha=0.8767029463499678, random_state=0),\n",
       " DecisionTreeRegressor(ccp_alpha=0.877319324035672, random_state=0),\n",
       " DecisionTreeRegressor(ccp_alpha=1.1969434051763166, random_state=0),\n",
       " DecisionTreeRegressor(ccp_alpha=1.5524550208404746, random_state=0),\n",
       " DecisionTreeRegressor(ccp_alpha=1.844315649566826, random_state=0),\n",
       " DecisionTreeRegressor(ccp_alpha=4.5247747601189605, random_state=0),\n",
       " DecisionTreeRegressor(ccp_alpha=5.281703754061632, random_state=0),\n",
       " DecisionTreeRegressor(ccp_alpha=17.06061074970934, random_state=0),\n",
       " DecisionTreeRegressor(ccp_alpha=41.6718568097539, random_state=0)]"
      ]
     },
     "execution_count": 17,
     "metadata": {},
     "output_type": "execute_result"
    }
   ],
   "source": [
    "clfs"
   ]
  },
  {
   "cell_type": "code",
   "execution_count": 18,
   "metadata": {},
   "outputs": [
    {
     "ename": "NameError",
     "evalue": "name 'plt' is not defined",
     "output_type": "error",
     "traceback": [
      "\u001b[1;31m---------------------------------------------------------------------------\u001b[0m",
      "\u001b[1;31mNameError\u001b[0m                                 Traceback (most recent call last)",
      "Input \u001b[1;32mIn [18]\u001b[0m, in \u001b[0;36m<cell line: 3>\u001b[1;34m()\u001b[0m\n\u001b[0;32m      1\u001b[0m tree_depths \u001b[38;5;241m=\u001b[39m [clf\u001b[38;5;241m.\u001b[39mtree_\u001b[38;5;241m.\u001b[39mmax_depth \u001b[38;5;28;01mfor\u001b[39;00m clf \u001b[38;5;129;01min\u001b[39;00m clfs]\n\u001b[1;32m----> 3\u001b[0m \u001b[43mplt\u001b[49m\u001b[38;5;241m.\u001b[39mfigure(figsize \u001b[38;5;241m=\u001b[39m (\u001b[38;5;241m10\u001b[39m, \u001b[38;5;241m6\u001b[39m))\n\u001b[0;32m      4\u001b[0m plt\u001b[38;5;241m.\u001b[39mplot(ccp_alphas[ : \u001b[38;5;241m-\u001b[39m\u001b[38;5;241m1\u001b[39m], tree_depths[ : \u001b[38;5;241m-\u001b[39m\u001b[38;5;241m1\u001b[39m])\n\u001b[0;32m      5\u001b[0m plt\u001b[38;5;241m.\u001b[39mxlabel(\u001b[38;5;124m'\u001b[39m\u001b[38;5;124meffective alpha\u001b[39m\u001b[38;5;124m'\u001b[39m)\n",
      "\u001b[1;31mNameError\u001b[0m: name 'plt' is not defined"
     ]
    }
   ],
   "source": [
    "tree_depths = [clf.tree_.max_depth for clf in clfs]\n",
    "\n",
    "plt.figure(figsize = (10, 6))\n",
    "plt.plot(ccp_alphas[ : -1], tree_depths[ : -1])\n",
    "plt.xlabel('effective alpha')\n",
    "plt.ylabel('Profundidade de árvore')"
   ]
  },
  {
   "cell_type": "markdown",
   "metadata": {},
   "source": [
    "### 4. Para cada árvore na lista, calcule o MSE da árvore."
   ]
  },
  {
   "cell_type": "code",
   "execution_count": 20,
   "metadata": {},
   "outputs": [
    {
     "ename": "NameError",
     "evalue": "name 'mean_squared_error' is not defined",
     "output_type": "error",
     "traceback": [
      "\u001b[1;31m---------------------------------------------------------------------------\u001b[0m",
      "\u001b[1;31mNameError\u001b[0m                                 Traceback (most recent call last)",
      "Input \u001b[1;32mIn [20]\u001b[0m, in \u001b[0;36m<cell line: 1>\u001b[1;34m()\u001b[0m\n\u001b[1;32m----> 1\u001b[0m train_scores \u001b[38;5;241m=\u001b[39m [mean_squared_error(y_train , clf\u001b[38;5;241m.\u001b[39mpredict(X_train)) \u001b[38;5;28;01mfor\u001b[39;00m clf \u001b[38;5;129;01min\u001b[39;00m clfs]\n\u001b[0;32m      2\u001b[0m test_scores  \u001b[38;5;241m=\u001b[39m [mean_squared_error(y_test  , clf\u001b[38;5;241m.\u001b[39mpredict(X_test )) \u001b[38;5;28;01mfor\u001b[39;00m clf \u001b[38;5;129;01min\u001b[39;00m clfs]\n",
      "Input \u001b[1;32mIn [20]\u001b[0m, in \u001b[0;36m<listcomp>\u001b[1;34m(.0)\u001b[0m\n\u001b[1;32m----> 1\u001b[0m train_scores \u001b[38;5;241m=\u001b[39m [\u001b[43mmean_squared_error\u001b[49m(y_train , clf\u001b[38;5;241m.\u001b[39mpredict(X_train)) \u001b[38;5;28;01mfor\u001b[39;00m clf \u001b[38;5;129;01min\u001b[39;00m clfs]\n\u001b[0;32m      2\u001b[0m test_scores  \u001b[38;5;241m=\u001b[39m [mean_squared_error(y_test  , clf\u001b[38;5;241m.\u001b[39mpredict(X_test )) \u001b[38;5;28;01mfor\u001b[39;00m clf \u001b[38;5;129;01min\u001b[39;00m clfs]\n",
      "\u001b[1;31mNameError\u001b[0m: name 'mean_squared_error' is not defined"
     ]
    }
   ],
   "source": [
    "train_scores = [mean_squared_error(y_train , clf.predict(X_train)) for clf in clfs]\n",
    "test_scores  = [mean_squared_error(y_test  , clf.predict(X_test )) for clf in clfs]"
   ]
  },
  {
   "cell_type": "markdown",
   "metadata": {},
   "source": [
    "### 5. Monte um gráfico do MSE pelo alpha, escolha um valor de alpha perto do ponto de mínimo do MSE"
   ]
  },
  {
   "cell_type": "code",
   "execution_count": 21,
   "metadata": {},
   "outputs": [
    {
     "ename": "NameError",
     "evalue": "name 'plt' is not defined",
     "output_type": "error",
     "traceback": [
      "\u001b[1;31m---------------------------------------------------------------------------\u001b[0m",
      "\u001b[1;31mNameError\u001b[0m                                 Traceback (most recent call last)",
      "Input \u001b[1;32mIn [21]\u001b[0m, in \u001b[0;36m<cell line: 1>\u001b[1;34m()\u001b[0m\n\u001b[1;32m----> 1\u001b[0m fig, ax \u001b[38;5;241m=\u001b[39m \u001b[43mplt\u001b[49m\u001b[38;5;241m.\u001b[39msubplots()\n\u001b[0;32m      2\u001b[0m ax\u001b[38;5;241m.\u001b[39mset_xlabel(\u001b[38;5;124m\"\u001b[39m\u001b[38;5;124malpha\u001b[39m\u001b[38;5;124m\"\u001b[39m)\n\u001b[0;32m      3\u001b[0m ax\u001b[38;5;241m.\u001b[39mset_ylabel(\u001b[38;5;124m\"\u001b[39m\u001b[38;5;124mMSE\u001b[39m\u001b[38;5;124m\"\u001b[39m)\n",
      "\u001b[1;31mNameError\u001b[0m: name 'plt' is not defined"
     ]
    }
   ],
   "source": [
    "fig, ax = plt.subplots()\n",
    "ax.set_xlabel(\"alpha\")\n",
    "ax.set_ylabel(\"MSE\")\n",
    "ax.set_title(\"MSE x alpha do conjunto de dados de treino e teste\")\n",
    "ax.plot(ccp_alphas[:-1], train_scores[:-1], marker='o', label=\"treino\",\n",
    "        drawstyle=\"steps-post\")\n",
    "ax.plot(ccp_alphas[:-1], test_scores[:-1], marker='o', label=\"teste\",\n",
    "        drawstyle=\"steps-post\")\n",
    "ax.legend()\n",
    "plt.show()\n"
   ]
  },
  {
   "cell_type": "code",
   "execution_count": null,
   "metadata": {},
   "outputs": [],
   "source": []
  },
  {
   "cell_type": "markdown",
   "metadata": {},
   "source": [
    "### 6. Calcule o R-quadrado dessa árvore encontrada no item acima"
   ]
  },
  {
   "cell_type": "code",
   "execution_count": 22,
   "metadata": {},
   "outputs": [
    {
     "data": {
      "text/plain": [
       "DecisionTreeRegressor(ccp_alpha=0.5, max_depth=8, min_samples_leaf=10)"
      ]
     },
     "execution_count": 22,
     "metadata": {},
     "output_type": "execute_result"
    }
   ],
   "source": [
    "regr_a = DecisionTreeRegressor(max_depth=8, min_samples_leaf=10, ccp_alpha=0.5)\n",
    "\n",
    "regr_a.fit(X_train, y_train)"
   ]
  },
  {
   "cell_type": "code",
   "execution_count": 23,
   "metadata": {},
   "outputs": [
    {
     "data": {
      "text/plain": [
       "0.804158876544052"
      ]
     },
     "execution_count": 23,
     "metadata": {},
     "output_type": "execute_result"
    }
   ],
   "source": [
    "regr_a.score(X_train, y_train)"
   ]
  },
  {
   "cell_type": "markdown",
   "metadata": {},
   "source": [
    "### 7. Visualize esta árvore."
   ]
  },
  {
   "cell_type": "code",
   "execution_count": 24,
   "metadata": {},
   "outputs": [
    {
     "ename": "NameError",
     "evalue": "name 'graphviz' is not defined",
     "output_type": "error",
     "traceback": [
      "\u001b[1;31m---------------------------------------------------------------------------\u001b[0m",
      "\u001b[1;31mNameError\u001b[0m                                 Traceback (most recent call last)",
      "Input \u001b[1;32mIn [24]\u001b[0m, in \u001b[0;36m<cell line: 5>\u001b[1;34m()\u001b[0m\n\u001b[0;32m      1\u001b[0m dot_data \u001b[38;5;241m=\u001b[39m tree\u001b[38;5;241m.\u001b[39mexport_graphviz(regr_a, out_file\u001b[38;5;241m=\u001b[39m\u001b[38;5;28;01mNone\u001b[39;00m, \n\u001b[0;32m      2\u001b[0m                                 feature_names\u001b[38;5;241m=\u001b[39mX_a\u001b[38;5;241m.\u001b[39mcolumns,\n\u001b[0;32m      3\u001b[0m                                 filled\u001b[38;5;241m=\u001b[39m\u001b[38;5;28;01mTrue\u001b[39;00m)\n\u001b[1;32m----> 5\u001b[0m graph \u001b[38;5;241m=\u001b[39m \u001b[43mgraphviz\u001b[49m\u001b[38;5;241m.\u001b[39mSource(dot_data, \u001b[38;5;28mformat\u001b[39m\u001b[38;5;241m=\u001b[39m\u001b[38;5;124m\"\u001b[39m\u001b[38;5;124mpng\u001b[39m\u001b[38;5;124m\"\u001b[39m) \n\u001b[0;32m      6\u001b[0m graph\n",
      "\u001b[1;31mNameError\u001b[0m: name 'graphviz' is not defined"
     ]
    }
   ],
   "source": [
    "dot_data = tree.export_graphviz(regr_a, out_file=None, \n",
    "                                feature_names=X_a.columns,\n",
    "                                filled=True)\n",
    "\n",
    "graph = graphviz.Source(dot_data, format=\"png\") \n",
    "graph"
   ]
  },
  {
   "cell_type": "code",
   "execution_count": null,
   "metadata": {},
   "outputs": [],
   "source": []
  }
 ],
 "metadata": {
  "kernelspec": {
   "display_name": "Python 3 (ipykernel)",
   "language": "python",
   "name": "python3"
  },
  "language_info": {
   "codemirror_mode": {
    "name": "ipython",
    "version": 3
   },
   "file_extension": ".py",
   "mimetype": "text/x-python",
   "name": "python",
   "nbconvert_exporter": "python",
   "pygments_lexer": "ipython3",
   "version": "3.9.12"
  }
 },
 "nbformat": 4,
 "nbformat_minor": 4
}
