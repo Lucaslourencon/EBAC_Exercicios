{
 "cells": [
  {
   "cell_type": "markdown",
   "id": "ba28c131",
   "metadata": {},
   "source": [
    "# Módulo 23 - Tarefa 01"
   ]
  },
  {
   "cell_type": "markdown",
   "id": "9ba64739",
   "metadata": {},
   "source": [
    "- Monte um passo a passo para o Bagging\n",
    "- Explique com suas palavras o Bagging\n"
   ]
  },
  {
   "cell_type": "markdown",
   "id": "faa5f738",
   "metadata": {},
   "source": [
    "**Bagging**"
   ]
  },
  {
   "cell_type": "markdown",
   "id": "b2f8dcaa",
   "metadata": {},
   "source": [
    "O bagging ou bootstrap aggregation é um método em que existe vários classificadores do mesmo tipo, onde cada um desses classificadores pega randomicamente uma parte do conjunto de amostra, cada qual gera suas predições onde a mesma é levada em conta em um sistema de média ou votação para produzir uma predição final."
   ]
  },
  {
   "cell_type": "markdown",
   "id": "30f5a7bf",
   "metadata": {},
   "source": [
    "**Passo a Passo**"
   ]
  },
  {
   "cell_type": "markdown",
   "id": "7064e99e",
   "metadata": {},
   "source": [
    "O Bagging faz um sorteio de todas as amostras; escolhe uma e, depois, faz outro sorteio e escolhe a segunda; e, dessa forma, ele segue sorteando as cinco mil amostras. Dessas, algumas podem vir duplicadas ou repetidas; ou seja, ele usa o bootstrapping para fazer repetições. Assim ele forma o dataset que constrói a primeira árvore de decisão. A segunda árvore passa a ser construída da mesma forma: através de um novo sorteio de cinco mil amostras, aqui, haverá amostras que não serão as mesmas da próxima; cada uma será um pouco diferente, com critérios diferentes; isto, porque, ele se baseou num conjunto diferente para a construção de cada uma. É dessa forma que o Bagging consegue construir estimadores diferentes: ele usa o mesmo algoritmo, só que para cada estimador, criado separadamente, ele usa um conjunto diferente de amostras. Essa é a técnica, a fórmula usada pelo Bagging para diferenciar um estimador de outro. E esse mesmo processo acontece com cada algoritmo. No fim combinamos os resultados por sua média (para modelos de regressão) ou por votação (para modelos de classificação)."
   ]
  },
  {
   "cell_type": "markdown",
   "id": "a7561aea",
   "metadata": {},
   "source": [
    "**Código bagging em Python**"
   ]
  },
  {
   "cell_type": "markdown",
   "id": "724a6288",
   "metadata": {},
   "source": [
    "fromsklearn.ensemble importRandomForestClassifier\n",
    "\n",
    "Assumindo que sim, X (preditor) e Y (alvo) para dados de treino e x_test(predictor) do test_dataset\n",
    "\n",
    "model= RandomForestClassifier(n_estimators=1000)\n",
    "\n",
    "model.fit(X, y\n",
    "\n",
    "Prevê o resultado predicted= model.predict(x_test)"
   ]
  },
  {
   "cell_type": "code",
   "execution_count": null,
   "id": "66ad053f",
   "metadata": {},
   "outputs": [],
   "source": []
  }
 ],
 "metadata": {
  "kernelspec": {
   "display_name": "Python 3 (ipykernel)",
   "language": "python",
   "name": "python3"
  },
  "language_info": {
   "codemirror_mode": {
    "name": "ipython",
    "version": 3
   },
   "file_extension": ".py",
   "mimetype": "text/x-python",
   "name": "python",
   "nbconvert_exporter": "python",
   "pygments_lexer": "ipython3",
   "version": "3.9.12"
  }
 },
 "nbformat": 4,
 "nbformat_minor": 5
}
