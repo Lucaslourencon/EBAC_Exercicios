{
 "cells": [
  {
   "cell_type": "markdown",
   "metadata": {},
   "source": [
    "# Árvores II - Tarefa 2"
   ]
  },
  {
   "cell_type": "markdown",
   "metadata": {},
   "source": [
    "### 1. Carregar as bases\n",
    "\n",
    "Vamos carregar as bases lidas na tarefa passada. Se você salvou essas bases em arquivo texto, basta fazer a leitura com o comando ```pd.read_csv``` das seguintes bases:\n",
    "\n",
    "- X_train\n",
    "- Y_train\n",
    "- X_test\n",
    "- Y_test\n",
    "\n",
    "Não se esqueça de considerar a leitura dos índices dos arquivos no ```read_csv()```!"
   ]
  },
  {
   "cell_type": "code",
   "execution_count": 1,
   "metadata": {},
   "outputs": [],
   "source": [
    "import pandas as pd\n",
    "import seaborn as sns\n",
    "import matplotlib.pyplot as plt\n",
    "import numpy as np\n",
    "import graphviz\n",
    "\n",
    "from sklearn.tree import DecisionTreeClassifier\n",
    "from sklearn.model_selection import train_test_split\n",
    "from sklearn.metrics import plot_confusion_matrix\n",
    "from sklearn.metrics import accuracy_score\n",
    "from sklearn.tree import export_graphviz"
   ]
  },
  {
   "cell_type": "code",
   "execution_count": 2,
   "metadata": {},
   "outputs": [
    {
     "data": {
      "text/html": [
       "<div>\n",
       "<style scoped>\n",
       "    .dataframe tbody tr th:only-of-type {\n",
       "        vertical-align: middle;\n",
       "    }\n",
       "\n",
       "    .dataframe tbody tr th {\n",
       "        vertical-align: top;\n",
       "    }\n",
       "\n",
       "    .dataframe thead th {\n",
       "        text-align: right;\n",
       "    }\n",
       "</style>\n",
       "<table border=\"1\" class=\"dataframe\">\n",
       "  <thead>\n",
       "    <tr style=\"text-align: right;\">\n",
       "      <th></th>\n",
       "      <th></th>\n",
       "      <th>1 tBodyAcc-mean()-X</th>\n",
       "      <th>2 tBodyAcc-mean()-Y</th>\n",
       "      <th>3 tBodyAcc-mean()-Z</th>\n",
       "      <th>4 tBodyAcc-std()-X</th>\n",
       "      <th>5 tBodyAcc-std()-Y</th>\n",
       "      <th>6 tBodyAcc-std()-Z</th>\n",
       "      <th>7 tBodyAcc-mad()-X</th>\n",
       "      <th>8 tBodyAcc-mad()-Y</th>\n",
       "      <th>9 tBodyAcc-mad()-Z</th>\n",
       "      <th>10 tBodyAcc-max()-X</th>\n",
       "      <th>...</th>\n",
       "      <th>552 fBodyBodyGyroJerkMag-meanFreq()</th>\n",
       "      <th>553 fBodyBodyGyroJerkMag-skewness()</th>\n",
       "      <th>554 fBodyBodyGyroJerkMag-kurtosis()</th>\n",
       "      <th>555 angle(tBodyAccMean,gravity)</th>\n",
       "      <th>556 angle(tBodyAccJerkMean),gravityMean)</th>\n",
       "      <th>557 angle(tBodyGyroMean,gravityMean)</th>\n",
       "      <th>558 angle(tBodyGyroJerkMean,gravityMean)</th>\n",
       "      <th>559 angle(X,gravityMean)</th>\n",
       "      <th>560 angle(Y,gravityMean)</th>\n",
       "      <th>561 angle(Z,gravityMean)</th>\n",
       "    </tr>\n",
       "    <tr>\n",
       "      <th></th>\n",
       "      <th>Subject</th>\n",
       "      <th></th>\n",
       "      <th></th>\n",
       "      <th></th>\n",
       "      <th></th>\n",
       "      <th></th>\n",
       "      <th></th>\n",
       "      <th></th>\n",
       "      <th></th>\n",
       "      <th></th>\n",
       "      <th></th>\n",
       "      <th></th>\n",
       "      <th></th>\n",
       "      <th></th>\n",
       "      <th></th>\n",
       "      <th></th>\n",
       "      <th></th>\n",
       "      <th></th>\n",
       "      <th></th>\n",
       "      <th></th>\n",
       "      <th></th>\n",
       "      <th></th>\n",
       "    </tr>\n",
       "  </thead>\n",
       "  <tbody>\n",
       "    <tr>\n",
       "      <th>0</th>\n",
       "      <th>1</th>\n",
       "      <td>0.288585</td>\n",
       "      <td>-0.020294</td>\n",
       "      <td>-0.132905</td>\n",
       "      <td>-0.995279</td>\n",
       "      <td>-0.983111</td>\n",
       "      <td>-0.913526</td>\n",
       "      <td>-0.995112</td>\n",
       "      <td>-0.983185</td>\n",
       "      <td>-0.923527</td>\n",
       "      <td>-0.934724</td>\n",
       "      <td>...</td>\n",
       "      <td>-0.074323</td>\n",
       "      <td>-0.298676</td>\n",
       "      <td>-0.710304</td>\n",
       "      <td>-0.112754</td>\n",
       "      <td>0.0304</td>\n",
       "      <td>-0.464761</td>\n",
       "      <td>-0.018446</td>\n",
       "      <td>-0.841247</td>\n",
       "      <td>0.179941</td>\n",
       "      <td>-0.058627</td>\n",
       "    </tr>\n",
       "  </tbody>\n",
       "</table>\n",
       "<p>1 rows × 561 columns</p>\n",
       "</div>"
      ],
      "text/plain": [
       "           1 tBodyAcc-mean()-X  2 tBodyAcc-mean()-Y  3 tBodyAcc-mean()-Z  \\\n",
       "  Subject                                                                  \n",
       "0 1                   0.288585            -0.020294            -0.132905   \n",
       "\n",
       "           4 tBodyAcc-std()-X  5 tBodyAcc-std()-Y  6 tBodyAcc-std()-Z  \\\n",
       "  Subject                                                               \n",
       "0 1                 -0.995279           -0.983111           -0.913526   \n",
       "\n",
       "           7 tBodyAcc-mad()-X  8 tBodyAcc-mad()-Y  9 tBodyAcc-mad()-Z  \\\n",
       "  Subject                                                               \n",
       "0 1                 -0.995112           -0.983185           -0.923527   \n",
       "\n",
       "           10 tBodyAcc-max()-X  ...  552 fBodyBodyGyroJerkMag-meanFreq()  \\\n",
       "  Subject                       ...                                        \n",
       "0 1                  -0.934724  ...                            -0.074323   \n",
       "\n",
       "           553 fBodyBodyGyroJerkMag-skewness()  \\\n",
       "  Subject                                        \n",
       "0 1                                  -0.298676   \n",
       "\n",
       "           554 fBodyBodyGyroJerkMag-kurtosis()  \\\n",
       "  Subject                                        \n",
       "0 1                                  -0.710304   \n",
       "\n",
       "           555 angle(tBodyAccMean,gravity)  \\\n",
       "  Subject                                    \n",
       "0 1                              -0.112754   \n",
       "\n",
       "           556 angle(tBodyAccJerkMean),gravityMean)  \\\n",
       "  Subject                                             \n",
       "0 1                                          0.0304   \n",
       "\n",
       "           557 angle(tBodyGyroMean,gravityMean)  \\\n",
       "  Subject                                         \n",
       "0 1                                   -0.464761   \n",
       "\n",
       "           558 angle(tBodyGyroJerkMean,gravityMean)  559 angle(X,gravityMean)  \\\n",
       "  Subject                                                                       \n",
       "0 1                                       -0.018446                 -0.841247   \n",
       "\n",
       "           560 angle(Y,gravityMean)  561 angle(Z,gravityMean)  \n",
       "  Subject                                                      \n",
       "0 1                        0.179941                 -0.058627  \n",
       "\n",
       "[1 rows x 561 columns]"
      ]
     },
     "execution_count": 2,
     "metadata": {},
     "output_type": "execute_result"
    }
   ],
   "source": [
    "X_ = pd.read_csv('X_train_edit.csv', index_col = [0,1])\n",
    "X_.head(1)"
   ]
  },
  {
   "cell_type": "code",
   "execution_count": 3,
   "metadata": {},
   "outputs": [
    {
     "data": {
      "text/html": [
       "<div>\n",
       "<style scoped>\n",
       "    .dataframe tbody tr th:only-of-type {\n",
       "        vertical-align: middle;\n",
       "    }\n",
       "\n",
       "    .dataframe tbody tr th {\n",
       "        vertical-align: top;\n",
       "    }\n",
       "\n",
       "    .dataframe thead th {\n",
       "        text-align: right;\n",
       "    }\n",
       "</style>\n",
       "<table border=\"1\" class=\"dataframe\">\n",
       "  <thead>\n",
       "    <tr style=\"text-align: right;\">\n",
       "      <th></th>\n",
       "      <th></th>\n",
       "      <th>1 tBodyAcc-mean()-X</th>\n",
       "      <th>2 tBodyAcc-mean()-Y</th>\n",
       "      <th>3 tBodyAcc-mean()-Z</th>\n",
       "      <th>4 tBodyAcc-std()-X</th>\n",
       "      <th>5 tBodyAcc-std()-Y</th>\n",
       "      <th>6 tBodyAcc-std()-Z</th>\n",
       "      <th>7 tBodyAcc-mad()-X</th>\n",
       "      <th>8 tBodyAcc-mad()-Y</th>\n",
       "      <th>9 tBodyAcc-mad()-Z</th>\n",
       "      <th>10 tBodyAcc-max()-X</th>\n",
       "      <th>...</th>\n",
       "      <th>552 fBodyBodyGyroJerkMag-meanFreq()</th>\n",
       "      <th>553 fBodyBodyGyroJerkMag-skewness()</th>\n",
       "      <th>554 fBodyBodyGyroJerkMag-kurtosis()</th>\n",
       "      <th>555 angle(tBodyAccMean,gravity)</th>\n",
       "      <th>556 angle(tBodyAccJerkMean),gravityMean)</th>\n",
       "      <th>557 angle(tBodyGyroMean,gravityMean)</th>\n",
       "      <th>558 angle(tBodyGyroJerkMean,gravityMean)</th>\n",
       "      <th>559 angle(X,gravityMean)</th>\n",
       "      <th>560 angle(Y,gravityMean)</th>\n",
       "      <th>561 angle(Z,gravityMean)</th>\n",
       "    </tr>\n",
       "    <tr>\n",
       "      <th></th>\n",
       "      <th>Subject</th>\n",
       "      <th></th>\n",
       "      <th></th>\n",
       "      <th></th>\n",
       "      <th></th>\n",
       "      <th></th>\n",
       "      <th></th>\n",
       "      <th></th>\n",
       "      <th></th>\n",
       "      <th></th>\n",
       "      <th></th>\n",
       "      <th></th>\n",
       "      <th></th>\n",
       "      <th></th>\n",
       "      <th></th>\n",
       "      <th></th>\n",
       "      <th></th>\n",
       "      <th></th>\n",
       "      <th></th>\n",
       "      <th></th>\n",
       "      <th></th>\n",
       "      <th></th>\n",
       "    </tr>\n",
       "  </thead>\n",
       "  <tbody>\n",
       "    <tr>\n",
       "      <th>0</th>\n",
       "      <th>2</th>\n",
       "      <td>0.257178</td>\n",
       "      <td>-0.023285</td>\n",
       "      <td>-0.014654</td>\n",
       "      <td>-0.938404</td>\n",
       "      <td>-0.920091</td>\n",
       "      <td>-0.667683</td>\n",
       "      <td>-0.952501</td>\n",
       "      <td>-0.925249</td>\n",
       "      <td>-0.674302</td>\n",
       "      <td>-0.894088</td>\n",
       "      <td>...</td>\n",
       "      <td>0.071645</td>\n",
       "      <td>-0.33037</td>\n",
       "      <td>-0.705974</td>\n",
       "      <td>0.006462</td>\n",
       "      <td>0.16292</td>\n",
       "      <td>-0.825886</td>\n",
       "      <td>0.271151</td>\n",
       "      <td>-0.720009</td>\n",
       "      <td>0.276801</td>\n",
       "      <td>-0.057978</td>\n",
       "    </tr>\n",
       "  </tbody>\n",
       "</table>\n",
       "<p>1 rows × 561 columns</p>\n",
       "</div>"
      ],
      "text/plain": [
       "           1 tBodyAcc-mean()-X  2 tBodyAcc-mean()-Y  3 tBodyAcc-mean()-Z  \\\n",
       "  Subject                                                                  \n",
       "0 2                   0.257178            -0.023285            -0.014654   \n",
       "\n",
       "           4 tBodyAcc-std()-X  5 tBodyAcc-std()-Y  6 tBodyAcc-std()-Z  \\\n",
       "  Subject                                                               \n",
       "0 2                 -0.938404           -0.920091           -0.667683   \n",
       "\n",
       "           7 tBodyAcc-mad()-X  8 tBodyAcc-mad()-Y  9 tBodyAcc-mad()-Z  \\\n",
       "  Subject                                                               \n",
       "0 2                 -0.952501           -0.925249           -0.674302   \n",
       "\n",
       "           10 tBodyAcc-max()-X  ...  552 fBodyBodyGyroJerkMag-meanFreq()  \\\n",
       "  Subject                       ...                                        \n",
       "0 2                  -0.894088  ...                             0.071645   \n",
       "\n",
       "           553 fBodyBodyGyroJerkMag-skewness()  \\\n",
       "  Subject                                        \n",
       "0 2                                   -0.33037   \n",
       "\n",
       "           554 fBodyBodyGyroJerkMag-kurtosis()  \\\n",
       "  Subject                                        \n",
       "0 2                                  -0.705974   \n",
       "\n",
       "           555 angle(tBodyAccMean,gravity)  \\\n",
       "  Subject                                    \n",
       "0 2                               0.006462   \n",
       "\n",
       "           556 angle(tBodyAccJerkMean),gravityMean)  \\\n",
       "  Subject                                             \n",
       "0 2                                         0.16292   \n",
       "\n",
       "           557 angle(tBodyGyroMean,gravityMean)  \\\n",
       "  Subject                                         \n",
       "0 2                                   -0.825886   \n",
       "\n",
       "           558 angle(tBodyGyroJerkMean,gravityMean)  559 angle(X,gravityMean)  \\\n",
       "  Subject                                                                       \n",
       "0 2                                        0.271151                 -0.720009   \n",
       "\n",
       "           560 angle(Y,gravityMean)  561 angle(Z,gravityMean)  \n",
       "  Subject                                                      \n",
       "0 2                        0.276801                 -0.057978  \n",
       "\n",
       "[1 rows x 561 columns]"
      ]
     },
     "execution_count": 3,
     "metadata": {},
     "output_type": "execute_result"
    }
   ],
   "source": [
    "X_test = pd.read_csv('X_test_edit.csv', index_col = [0,1])\n",
    "X_test.head(1)"
   ]
  },
  {
   "cell_type": "code",
   "execution_count": 4,
   "metadata": {},
   "outputs": [
    {
     "data": {
      "text/html": [
       "<div>\n",
       "<style scoped>\n",
       "    .dataframe tbody tr th:only-of-type {\n",
       "        vertical-align: middle;\n",
       "    }\n",
       "\n",
       "    .dataframe tbody tr th {\n",
       "        vertical-align: top;\n",
       "    }\n",
       "\n",
       "    .dataframe thead th {\n",
       "        text-align: right;\n",
       "    }\n",
       "</style>\n",
       "<table border=\"1\" class=\"dataframe\">\n",
       "  <thead>\n",
       "    <tr style=\"text-align: right;\">\n",
       "      <th></th>\n",
       "      <th></th>\n",
       "      <th>0</th>\n",
       "    </tr>\n",
       "    <tr>\n",
       "      <th></th>\n",
       "      <th>Subject</th>\n",
       "      <th></th>\n",
       "    </tr>\n",
       "  </thead>\n",
       "  <tbody>\n",
       "    <tr>\n",
       "      <th>0</th>\n",
       "      <th>1</th>\n",
       "      <td>5</td>\n",
       "    </tr>\n",
       "  </tbody>\n",
       "</table>\n",
       "</div>"
      ],
      "text/plain": [
       "           0\n",
       "  Subject   \n",
       "0 1        5"
      ]
     },
     "execution_count": 4,
     "metadata": {},
     "output_type": "execute_result"
    }
   ],
   "source": [
    "y_ = pd.read_csv('y_train_edit.csv', index_col = [0,1])\n",
    "y_.head(1)"
   ]
  },
  {
   "cell_type": "code",
   "execution_count": 5,
   "metadata": {},
   "outputs": [
    {
     "data": {
      "text/html": [
       "<div>\n",
       "<style scoped>\n",
       "    .dataframe tbody tr th:only-of-type {\n",
       "        vertical-align: middle;\n",
       "    }\n",
       "\n",
       "    .dataframe tbody tr th {\n",
       "        vertical-align: top;\n",
       "    }\n",
       "\n",
       "    .dataframe thead th {\n",
       "        text-align: right;\n",
       "    }\n",
       "</style>\n",
       "<table border=\"1\" class=\"dataframe\">\n",
       "  <thead>\n",
       "    <tr style=\"text-align: right;\">\n",
       "      <th></th>\n",
       "      <th></th>\n",
       "      <th>0</th>\n",
       "    </tr>\n",
       "    <tr>\n",
       "      <th></th>\n",
       "      <th>Subject</th>\n",
       "      <th></th>\n",
       "    </tr>\n",
       "  </thead>\n",
       "  <tbody>\n",
       "    <tr>\n",
       "      <th>0</th>\n",
       "      <th>2</th>\n",
       "      <td>5</td>\n",
       "    </tr>\n",
       "  </tbody>\n",
       "</table>\n",
       "</div>"
      ],
      "text/plain": [
       "           0\n",
       "  Subject   \n",
       "0 2        5"
      ]
     },
     "execution_count": 5,
     "metadata": {},
     "output_type": "execute_result"
    }
   ],
   "source": [
    "y_test = pd.read_csv('y_test_edit.csv', index_col = [0,1])\n",
    "y_test.head(1)"
   ]
  },
  {
   "cell_type": "markdown",
   "metadata": {},
   "source": [
    "### 2. Divisão da base em Treino, Validação e Teste\n",
    "\n",
    "A base já se encontra dividida em Treino e Validação. O que vamos fazer então é extrair uma base de Validação da base de Treino.\n",
    "\n",
    "Extraia 25% da base de treino como base de validação."
   ]
  },
  {
   "cell_type": "code",
   "execution_count": 6,
   "metadata": {},
   "outputs": [],
   "source": [
    "X_train, X_valid, y_train, y_valid = train_test_split(X_, y_, test_size=.25, random_state=100)"
   ]
  },
  {
   "cell_type": "markdown",
   "metadata": {},
   "source": [
    "### 3. Melhores 3 variáveis\n",
    "\n",
    "Rode uma árvore com profundidade máxima igual a 4 para prever a atividade humana com todas as variáveis.\n",
    "Observe a importância das variáveis e considere as 3 variáveis com maior importância para os próximos passos.\n",
    "Dica: utilize o atributo ```clf.feature_importances_``` da árvore treinada."
   ]
  },
  {
   "cell_type": "code",
   "execution_count": 7,
   "metadata": {},
   "outputs": [
    {
     "data": {
      "image/svg+xml": [
       "<?xml version=\"1.0\" encoding=\"UTF-8\" standalone=\"no\"?>\n",
       "<!DOCTYPE svg PUBLIC \"-//W3C//DTD SVG 1.1//EN\"\n",
       " \"http://www.w3.org/Graphics/SVG/1.1/DTD/svg11.dtd\">\n",
       "<!-- Generated by graphviz version 2.50.0 (0)\n",
       " -->\n",
       "<!-- Title: Tree Pages: 1 -->\n",
       "<svg width=\"1571pt\" height=\"477pt\"\n",
       " viewBox=\"0.00 0.00 1570.50 477.00\" xmlns=\"http://www.w3.org/2000/svg\" xmlns:xlink=\"http://www.w3.org/1999/xlink\">\n",
       "<g id=\"graph0\" class=\"graph\" transform=\"scale(1 1) rotate(0) translate(4 473)\">\n",
       "<title>Tree</title>\n",
       "<polygon fill=\"white\" stroke=\"transparent\" points=\"-4,4 -4,-473 1566.5,-473 1566.5,4 -4,4\"/>\n",
       "<!-- 0 -->\n",
       "<g id=\"node1\" class=\"node\">\n",
       "<title>0</title>\n",
       "<polygon fill=\"#fffeff\" stroke=\"black\" points=\"728.5,-469 468.5,-469 468.5,-401 728.5,-401 728.5,-469\"/>\n",
       "<text text-anchor=\"middle\" x=\"598.5\" y=\"-453.8\" font-family=\"Helvetica,sans-Serif\" font-size=\"14.00\">53 tGravityAcc&#45;min()&#45;X &lt;= 0.096</text>\n",
       "<text text-anchor=\"middle\" x=\"598.5\" y=\"-438.8\" font-family=\"Helvetica,sans-Serif\" font-size=\"14.00\">gini = 0.831</text>\n",
       "<text text-anchor=\"middle\" x=\"598.5\" y=\"-423.8\" font-family=\"Helvetica,sans-Serif\" font-size=\"14.00\">samples = 5514</text>\n",
       "<text text-anchor=\"middle\" x=\"598.5\" y=\"-408.8\" font-family=\"Helvetica,sans-Serif\" font-size=\"14.00\">value = [928, 807, 725, 968, 1032, 1054]</text>\n",
       "</g>\n",
       "<!-- 1 -->\n",
       "<g id=\"node2\" class=\"node\">\n",
       "<title>1</title>\n",
       "<polygon fill=\"#e5399d\" stroke=\"black\" points=\"560,-357.5 383,-357.5 383,-304.5 560,-304.5 560,-357.5\"/>\n",
       "<text text-anchor=\"middle\" x=\"471.5\" y=\"-342.3\" font-family=\"Helvetica,sans-Serif\" font-size=\"14.00\">gini = 0.0</text>\n",
       "<text text-anchor=\"middle\" x=\"471.5\" y=\"-327.3\" font-family=\"Helvetica,sans-Serif\" font-size=\"14.00\">samples = 1054</text>\n",
       "<text text-anchor=\"middle\" x=\"471.5\" y=\"-312.3\" font-family=\"Helvetica,sans-Serif\" font-size=\"14.00\">value = [0, 0, 0, 0, 0, 1054]</text>\n",
       "</g>\n",
       "<!-- 0&#45;&gt;1 -->\n",
       "<g id=\"edge1\" class=\"edge\">\n",
       "<title>0&#45;&gt;1</title>\n",
       "<path fill=\"none\" stroke=\"black\" d=\"M557.27,-400.88C542.48,-389.01 525.84,-375.65 511.19,-363.88\"/>\n",
       "<polygon fill=\"black\" stroke=\"black\" points=\"513.26,-361.05 503.27,-357.52 508.88,-366.51 513.26,-361.05\"/>\n",
       "<text text-anchor=\"middle\" x=\"505.99\" y=\"-378.67\" font-family=\"Helvetica,sans-Serif\" font-size=\"14.00\">True</text>\n",
       "</g>\n",
       "<!-- 2 -->\n",
       "<g id=\"node3\" class=\"node\">\n",
       "<title>2</title>\n",
       "<polygon fill=\"#fdfbff\" stroke=\"black\" points=\"874.5,-365 578.5,-365 578.5,-297 874.5,-297 874.5,-365\"/>\n",
       "<text text-anchor=\"middle\" x=\"726.5\" y=\"-349.8\" font-family=\"Helvetica,sans-Serif\" font-size=\"14.00\">382 fBodyAccJerk&#45;bandsEnergy()&#45;1,8 &lt;= &#45;0.99</text>\n",
       "<text text-anchor=\"middle\" x=\"726.5\" y=\"-334.8\" font-family=\"Helvetica,sans-Serif\" font-size=\"14.00\">gini = 0.797</text>\n",
       "<text text-anchor=\"middle\" x=\"726.5\" y=\"-319.8\" font-family=\"Helvetica,sans-Serif\" font-size=\"14.00\">samples = 4460</text>\n",
       "<text text-anchor=\"middle\" x=\"726.5\" y=\"-304.8\" font-family=\"Helvetica,sans-Serif\" font-size=\"14.00\">value = [928, 807, 725, 968, 1032, 0]</text>\n",
       "</g>\n",
       "<!-- 0&#45;&gt;2 -->\n",
       "<g id=\"edge2\" class=\"edge\">\n",
       "<title>0&#45;&gt;2</title>\n",
       "<path fill=\"none\" stroke=\"black\" d=\"M640.06,-400.88C651.79,-391.53 664.68,-381.26 676.85,-371.57\"/>\n",
       "<polygon fill=\"black\" stroke=\"black\" points=\"679.07,-374.27 684.71,-365.3 674.71,-368.79 679.07,-374.27\"/>\n",
       "<text text-anchor=\"middle\" x=\"681.9\" y=\"-386.44\" font-family=\"Helvetica,sans-Serif\" font-size=\"14.00\">False</text>\n",
       "</g>\n",
       "<!-- 3 -->\n",
       "<g id=\"node4\" class=\"node\">\n",
       "<title>3</title>\n",
       "<polygon fill=\"#f7f3fd\" stroke=\"black\" points=\"689,-261 468,-261 468,-193 689,-193 689,-261\"/>\n",
       "<text text-anchor=\"middle\" x=\"578.5\" y=\"-245.8\" font-family=\"Helvetica,sans-Serif\" font-size=\"14.00\">560 angle(Y,gravityMean) &lt;= 0.14</text>\n",
       "<text text-anchor=\"middle\" x=\"578.5\" y=\"-230.8\" font-family=\"Helvetica,sans-Serif\" font-size=\"14.00\">gini = 0.499</text>\n",
       "<text text-anchor=\"middle\" x=\"578.5\" y=\"-215.8\" font-family=\"Helvetica,sans-Serif\" font-size=\"14.00\">samples = 2000</text>\n",
       "<text text-anchor=\"middle\" x=\"578.5\" y=\"-200.8\" font-family=\"Helvetica,sans-Serif\" font-size=\"14.00\">value = [0, 0, 0, 968, 1032, 0]</text>\n",
       "</g>\n",
       "<!-- 2&#45;&gt;3 -->\n",
       "<g id=\"edge3\" class=\"edge\">\n",
       "<title>2&#45;&gt;3</title>\n",
       "<path fill=\"none\" stroke=\"black\" d=\"M678.45,-296.88C664.55,-287.3 649.25,-276.76 634.89,-266.86\"/>\n",
       "<polygon fill=\"black\" stroke=\"black\" points=\"636.78,-263.92 626.56,-261.12 632.81,-269.68 636.78,-263.92\"/>\n",
       "</g>\n",
       "<!-- 10 -->\n",
       "<g id=\"node11\" class=\"node\">\n",
       "<title>10</title>\n",
       "<polygon fill=\"#fdf6f1\" stroke=\"black\" points=\"1067.5,-261 823.5,-261 823.5,-193 1067.5,-193 1067.5,-261\"/>\n",
       "<text text-anchor=\"middle\" x=\"945.5\" y=\"-245.8\" font-family=\"Helvetica,sans-Serif\" font-size=\"14.00\">509 fBodyAccMag&#45;energy() &lt;= &#45;0.525</text>\n",
       "<text text-anchor=\"middle\" x=\"945.5\" y=\"-230.8\" font-family=\"Helvetica,sans-Serif\" font-size=\"14.00\">gini = 0.663</text>\n",
       "<text text-anchor=\"middle\" x=\"945.5\" y=\"-215.8\" font-family=\"Helvetica,sans-Serif\" font-size=\"14.00\">samples = 2460</text>\n",
       "<text text-anchor=\"middle\" x=\"945.5\" y=\"-200.8\" font-family=\"Helvetica,sans-Serif\" font-size=\"14.00\">value = [928, 807, 725, 0, 0, 0]</text>\n",
       "</g>\n",
       "<!-- 2&#45;&gt;10 -->\n",
       "<g id=\"edge10\" class=\"edge\">\n",
       "<title>2&#45;&gt;10</title>\n",
       "<path fill=\"none\" stroke=\"black\" d=\"M797.6,-296.88C819.13,-286.86 842.93,-275.77 865.02,-265.48\"/>\n",
       "<polygon fill=\"black\" stroke=\"black\" points=\"866.79,-268.52 874.38,-261.12 863.84,-262.17 866.79,-268.52\"/>\n",
       "</g>\n",
       "<!-- 4 -->\n",
       "<g id=\"node5\" class=\"node\">\n",
       "<title>4</title>\n",
       "<polygon fill=\"#59ade9\" stroke=\"black\" points=\"406.5,-157 170.5,-157 170.5,-89 406.5,-89 406.5,-157\"/>\n",
       "<text text-anchor=\"middle\" x=\"288.5\" y=\"-141.8\" font-family=\"Helvetica,sans-Serif\" font-size=\"14.00\">58 tGravityAcc&#45;energy()&#45;Y &lt;= &#45;0.983</text>\n",
       "<text text-anchor=\"middle\" x=\"288.5\" y=\"-126.8\" font-family=\"Helvetica,sans-Serif\" font-size=\"14.00\">gini = 0.237</text>\n",
       "<text text-anchor=\"middle\" x=\"288.5\" y=\"-111.8\" font-family=\"Helvetica,sans-Serif\" font-size=\"14.00\">samples = 1040</text>\n",
       "<text text-anchor=\"middle\" x=\"288.5\" y=\"-96.8\" font-family=\"Helvetica,sans-Serif\" font-size=\"14.00\">value = [0, 0, 0, 897, 143, 0]</text>\n",
       "</g>\n",
       "<!-- 3&#45;&gt;4 -->\n",
       "<g id=\"edge4\" class=\"edge\">\n",
       "<title>3&#45;&gt;4</title>\n",
       "<path fill=\"none\" stroke=\"black\" d=\"M484.35,-192.88C454.95,-182.54 422.35,-171.08 392.33,-160.52\"/>\n",
       "<polygon fill=\"black\" stroke=\"black\" points=\"393.27,-157.14 382.68,-157.12 390.95,-163.74 393.27,-157.14\"/>\n",
       "</g>\n",
       "<!-- 7 -->\n",
       "<g id=\"node8\" class=\"node\">\n",
       "<title>7</title>\n",
       "<polygon fill=\"#8b49e7\" stroke=\"black\" points=\"686,-157 471,-157 471,-89 686,-89 686,-157\"/>\n",
       "<text text-anchor=\"middle\" x=\"578.5\" y=\"-141.8\" font-family=\"Helvetica,sans-Serif\" font-size=\"14.00\">427 fBodyGyro&#45;std()&#45;X &lt;= &#45;0.997</text>\n",
       "<text text-anchor=\"middle\" x=\"578.5\" y=\"-126.8\" font-family=\"Helvetica,sans-Serif\" font-size=\"14.00\">gini = 0.137</text>\n",
       "<text text-anchor=\"middle\" x=\"578.5\" y=\"-111.8\" font-family=\"Helvetica,sans-Serif\" font-size=\"14.00\">samples = 960</text>\n",
       "<text text-anchor=\"middle\" x=\"578.5\" y=\"-96.8\" font-family=\"Helvetica,sans-Serif\" font-size=\"14.00\">value = [0, 0, 0, 71, 889, 0]</text>\n",
       "</g>\n",
       "<!-- 3&#45;&gt;7 -->\n",
       "<g id=\"edge7\" class=\"edge\">\n",
       "<title>3&#45;&gt;7</title>\n",
       "<path fill=\"none\" stroke=\"black\" d=\"M578.5,-192.88C578.5,-184.78 578.5,-175.98 578.5,-167.47\"/>\n",
       "<polygon fill=\"black\" stroke=\"black\" points=\"582,-167.3 578.5,-157.3 575,-167.3 582,-167.3\"/>\n",
       "</g>\n",
       "<!-- 5 -->\n",
       "<g id=\"node6\" class=\"node\">\n",
       "<title>5</title>\n",
       "<polygon fill=\"#8ac5f0\" stroke=\"black\" points=\"185,-53 0,-53 0,0 185,0 185,-53\"/>\n",
       "<text text-anchor=\"middle\" x=\"92.5\" y=\"-37.8\" font-family=\"Helvetica,sans-Serif\" font-size=\"14.00\">gini = 0.411</text>\n",
       "<text text-anchor=\"middle\" x=\"92.5\" y=\"-22.8\" font-family=\"Helvetica,sans-Serif\" font-size=\"14.00\">samples = 484</text>\n",
       "<text text-anchor=\"middle\" x=\"92.5\" y=\"-7.8\" font-family=\"Helvetica,sans-Serif\" font-size=\"14.00\">value = [0, 0, 0, 344, 140, 0]</text>\n",
       "</g>\n",
       "<!-- 4&#45;&gt;5 -->\n",
       "<g id=\"edge5\" class=\"edge\">\n",
       "<title>4&#45;&gt;5</title>\n",
       "<path fill=\"none\" stroke=\"black\" d=\"M219.95,-88.95C198.7,-78.7 175.41,-67.47 154.62,-57.45\"/>\n",
       "<polygon fill=\"black\" stroke=\"black\" points=\"156.1,-54.28 145.57,-53.09 153.06,-60.58 156.1,-54.28\"/>\n",
       "</g>\n",
       "<!-- 6 -->\n",
       "<g id=\"node7\" class=\"node\">\n",
       "<title>6</title>\n",
       "<polygon fill=\"#3a9ee5\" stroke=\"black\" points=\"373.5,-53 203.5,-53 203.5,0 373.5,0 373.5,-53\"/>\n",
       "<text text-anchor=\"middle\" x=\"288.5\" y=\"-37.8\" font-family=\"Helvetica,sans-Serif\" font-size=\"14.00\">gini = 0.011</text>\n",
       "<text text-anchor=\"middle\" x=\"288.5\" y=\"-22.8\" font-family=\"Helvetica,sans-Serif\" font-size=\"14.00\">samples = 556</text>\n",
       "<text text-anchor=\"middle\" x=\"288.5\" y=\"-7.8\" font-family=\"Helvetica,sans-Serif\" font-size=\"14.00\">value = [0, 0, 0, 553, 3, 0]</text>\n",
       "</g>\n",
       "<!-- 4&#45;&gt;6 -->\n",
       "<g id=\"edge6\" class=\"edge\">\n",
       "<title>4&#45;&gt;6</title>\n",
       "<path fill=\"none\" stroke=\"black\" d=\"M288.5,-88.95C288.5,-80.72 288.5,-71.85 288.5,-63.48\"/>\n",
       "<polygon fill=\"black\" stroke=\"black\" points=\"292,-63.24 288.5,-53.24 285,-63.24 292,-63.24\"/>\n",
       "</g>\n",
       "<!-- 8 -->\n",
       "<g id=\"node9\" class=\"node\">\n",
       "<title>8</title>\n",
       "<polygon fill=\"#e0f0fb\" stroke=\"black\" points=\"561.5,-53 391.5,-53 391.5,0 561.5,0 561.5,-53\"/>\n",
       "<text text-anchor=\"middle\" x=\"476.5\" y=\"-37.8\" font-family=\"Helvetica,sans-Serif\" font-size=\"14.00\">gini = 0.496</text>\n",
       "<text text-anchor=\"middle\" x=\"476.5\" y=\"-22.8\" font-family=\"Helvetica,sans-Serif\" font-size=\"14.00\">samples = 35</text>\n",
       "<text text-anchor=\"middle\" x=\"476.5\" y=\"-7.8\" font-family=\"Helvetica,sans-Serif\" font-size=\"14.00\">value = [0, 0, 0, 19, 16, 0]</text>\n",
       "</g>\n",
       "<!-- 7&#45;&gt;8 -->\n",
       "<g id=\"edge8\" class=\"edge\">\n",
       "<title>7&#45;&gt;8</title>\n",
       "<path fill=\"none\" stroke=\"black\" d=\"M542.83,-88.95C532.75,-79.62 521.8,-69.47 511.76,-60.16\"/>\n",
       "<polygon fill=\"black\" stroke=\"black\" points=\"513.99,-57.47 504.28,-53.24 509.24,-62.6 513.99,-57.47\"/>\n",
       "</g>\n",
       "<!-- 9 -->\n",
       "<g id=\"node10\" class=\"node\">\n",
       "<title>9</title>\n",
       "<polygon fill=\"#8945e7\" stroke=\"black\" points=\"757,-53 580,-53 580,0 757,0 757,-53\"/>\n",
       "<text text-anchor=\"middle\" x=\"668.5\" y=\"-37.8\" font-family=\"Helvetica,sans-Serif\" font-size=\"14.00\">gini = 0.106</text>\n",
       "<text text-anchor=\"middle\" x=\"668.5\" y=\"-22.8\" font-family=\"Helvetica,sans-Serif\" font-size=\"14.00\">samples = 925</text>\n",
       "<text text-anchor=\"middle\" x=\"668.5\" y=\"-7.8\" font-family=\"Helvetica,sans-Serif\" font-size=\"14.00\">value = [0, 0, 0, 52, 873, 0]</text>\n",
       "</g>\n",
       "<!-- 7&#45;&gt;9 -->\n",
       "<g id=\"edge9\" class=\"edge\">\n",
       "<title>7&#45;&gt;9</title>\n",
       "<path fill=\"none\" stroke=\"black\" d=\"M609.98,-88.95C618.69,-79.8 628.15,-69.87 636.87,-60.71\"/>\n",
       "<polygon fill=\"black\" stroke=\"black\" points=\"639.63,-62.89 643.99,-53.24 634.56,-58.06 639.63,-62.89\"/>\n",
       "</g>\n",
       "<!-- 11 -->\n",
       "<g id=\"node12\" class=\"node\">\n",
       "<title>11</title>\n",
       "<polygon fill=\"#fbeade\" stroke=\"black\" points=\"1068,-157 823,-157 823,-89 1068,-89 1068,-157\"/>\n",
       "<text text-anchor=\"middle\" x=\"945.5\" y=\"-141.8\" font-family=\"Helvetica,sans-Serif\" font-size=\"14.00\">75 tGravityAcc&#45;arCoeff()&#45;Z,2 &lt;= 0.564</text>\n",
       "<text text-anchor=\"middle\" x=\"945.5\" y=\"-126.8\" font-family=\"Helvetica,sans-Serif\" font-size=\"14.00\">gini = 0.557</text>\n",
       "<text text-anchor=\"middle\" x=\"945.5\" y=\"-111.8\" font-family=\"Helvetica,sans-Serif\" font-size=\"14.00\">samples = 1778</text>\n",
       "<text text-anchor=\"middle\" x=\"945.5\" y=\"-96.8\" font-family=\"Helvetica,sans-Serif\" font-size=\"14.00\">value = [914, 741, 123, 0, 0, 0]</text>\n",
       "</g>\n",
       "<!-- 10&#45;&gt;11 -->\n",
       "<g id=\"edge11\" class=\"edge\">\n",
       "<title>10&#45;&gt;11</title>\n",
       "<path fill=\"none\" stroke=\"black\" d=\"M945.5,-192.88C945.5,-184.78 945.5,-175.98 945.5,-167.47\"/>\n",
       "<polygon fill=\"black\" stroke=\"black\" points=\"949,-167.3 945.5,-157.3 942,-167.3 949,-167.3\"/>\n",
       "</g>\n",
       "<!-- 14 -->\n",
       "<g id=\"node15\" class=\"node\">\n",
       "<title>14</title>\n",
       "<polygon fill=\"#53e891\" stroke=\"black\" points=\"1422.5,-157 1156.5,-157 1156.5,-89 1422.5,-89 1422.5,-157\"/>\n",
       "<text text-anchor=\"middle\" x=\"1289.5\" y=\"-141.8\" font-family=\"Helvetica,sans-Serif\" font-size=\"14.00\">160 tBodyGyro&#45;correlation()&#45;Y,Z &lt;= 0.273</text>\n",
       "<text text-anchor=\"middle\" x=\"1289.5\" y=\"-126.8\" font-family=\"Helvetica,sans-Serif\" font-size=\"14.00\">gini = 0.211</text>\n",
       "<text text-anchor=\"middle\" x=\"1289.5\" y=\"-111.8\" font-family=\"Helvetica,sans-Serif\" font-size=\"14.00\">samples = 682</text>\n",
       "<text text-anchor=\"middle\" x=\"1289.5\" y=\"-96.8\" font-family=\"Helvetica,sans-Serif\" font-size=\"14.00\">value = [14, 66, 602, 0, 0, 0]</text>\n",
       "</g>\n",
       "<!-- 10&#45;&gt;14 -->\n",
       "<g id=\"edge14\" class=\"edge\">\n",
       "<title>10&#45;&gt;14</title>\n",
       "<path fill=\"none\" stroke=\"black\" d=\"M1057.19,-192.88C1092.75,-182.34 1132.26,-170.62 1168.46,-159.89\"/>\n",
       "<polygon fill=\"black\" stroke=\"black\" points=\"1169.49,-163.24 1178.08,-157.04 1167.5,-156.52 1169.49,-163.24\"/>\n",
       "</g>\n",
       "<!-- 12 -->\n",
       "<g id=\"node13\" class=\"node\">\n",
       "<title>12</title>\n",
       "<polygon fill=\"#eb9d65\" stroke=\"black\" points=\"975.5,-53 775.5,-53 775.5,0 975.5,0 975.5,-53\"/>\n",
       "<text text-anchor=\"middle\" x=\"875.5\" y=\"-37.8\" font-family=\"Helvetica,sans-Serif\" font-size=\"14.00\">gini = 0.339</text>\n",
       "<text text-anchor=\"middle\" x=\"875.5\" y=\"-22.8\" font-family=\"Helvetica,sans-Serif\" font-size=\"14.00\">samples = 1024</text>\n",
       "<text text-anchor=\"middle\" x=\"875.5\" y=\"-7.8\" font-family=\"Helvetica,sans-Serif\" font-size=\"14.00\">value = [820, 104, 100, 0, 0, 0]</text>\n",
       "</g>\n",
       "<!-- 11&#45;&gt;12 -->\n",
       "<g id=\"edge12\" class=\"edge\">\n",
       "<title>11&#45;&gt;12</title>\n",
       "<path fill=\"none\" stroke=\"black\" d=\"M921.02,-88.95C914.44,-80.07 907.33,-70.46 900.71,-61.54\"/>\n",
       "<polygon fill=\"black\" stroke=\"black\" points=\"903.33,-59.19 894.56,-53.24 897.7,-63.36 903.33,-59.19\"/>\n",
       "</g>\n",
       "<!-- 13 -->\n",
       "<g id=\"node14\" class=\"node\">\n",
       "<title>13</title>\n",
       "<polygon fill=\"#aeea5c\" stroke=\"black\" points=\"1179,-53 994,-53 994,0 1179,0 1179,-53\"/>\n",
       "<text text-anchor=\"middle\" x=\"1086.5\" y=\"-37.8\" font-family=\"Helvetica,sans-Serif\" font-size=\"14.00\">gini = 0.27</text>\n",
       "<text text-anchor=\"middle\" x=\"1086.5\" y=\"-22.8\" font-family=\"Helvetica,sans-Serif\" font-size=\"14.00\">samples = 754</text>\n",
       "<text text-anchor=\"middle\" x=\"1086.5\" y=\"-7.8\" font-family=\"Helvetica,sans-Serif\" font-size=\"14.00\">value = [94, 637, 23, 0, 0, 0]</text>\n",
       "</g>\n",
       "<!-- 11&#45;&gt;13 -->\n",
       "<g id=\"edge13\" class=\"edge\">\n",
       "<title>11&#45;&gt;13</title>\n",
       "<path fill=\"none\" stroke=\"black\" d=\"M994.81,-88.95C1009.28,-79.25 1025.06,-68.68 1039.39,-59.07\"/>\n",
       "<polygon fill=\"black\" stroke=\"black\" points=\"1041.74,-61.71 1048.1,-53.24 1037.84,-55.9 1041.74,-61.71\"/>\n",
       "</g>\n",
       "<!-- 15 -->\n",
       "<g id=\"node16\" class=\"node\">\n",
       "<title>15</title>\n",
       "<polygon fill=\"#45e789\" stroke=\"black\" points=\"1382,-53 1197,-53 1197,0 1382,0 1382,-53\"/>\n",
       "<text text-anchor=\"middle\" x=\"1289.5\" y=\"-37.8\" font-family=\"Helvetica,sans-Serif\" font-size=\"14.00\">gini = 0.111</text>\n",
       "<text text-anchor=\"middle\" x=\"1289.5\" y=\"-22.8\" font-family=\"Helvetica,sans-Serif\" font-size=\"14.00\">samples = 636</text>\n",
       "<text text-anchor=\"middle\" x=\"1289.5\" y=\"-7.8\" font-family=\"Helvetica,sans-Serif\" font-size=\"14.00\">value = [12, 25, 599, 0, 0, 0]</text>\n",
       "</g>\n",
       "<!-- 14&#45;&gt;15 -->\n",
       "<g id=\"edge15\" class=\"edge\">\n",
       "<title>14&#45;&gt;15</title>\n",
       "<path fill=\"none\" stroke=\"black\" d=\"M1289.5,-88.95C1289.5,-80.72 1289.5,-71.85 1289.5,-63.48\"/>\n",
       "<polygon fill=\"black\" stroke=\"black\" points=\"1293,-63.24 1289.5,-53.24 1286,-63.24 1293,-63.24\"/>\n",
       "</g>\n",
       "<!-- 16 -->\n",
       "<g id=\"node17\" class=\"node\">\n",
       "<title>16</title>\n",
       "<polygon fill=\"#a8e850\" stroke=\"black\" points=\"1562.5,-53 1400.5,-53 1400.5,0 1562.5,0 1562.5,-53\"/>\n",
       "<text text-anchor=\"middle\" x=\"1481.5\" y=\"-37.8\" font-family=\"Helvetica,sans-Serif\" font-size=\"14.00\">gini = 0.199</text>\n",
       "<text text-anchor=\"middle\" x=\"1481.5\" y=\"-22.8\" font-family=\"Helvetica,sans-Serif\" font-size=\"14.00\">samples = 46</text>\n",
       "<text text-anchor=\"middle\" x=\"1481.5\" y=\"-7.8\" font-family=\"Helvetica,sans-Serif\" font-size=\"14.00\">value = [2, 41, 3, 0, 0, 0]</text>\n",
       "</g>\n",
       "<!-- 14&#45;&gt;16 -->\n",
       "<g id=\"edge16\" class=\"edge\">\n",
       "<title>14&#45;&gt;16</title>\n",
       "<path fill=\"none\" stroke=\"black\" d=\"M1356.65,-88.95C1377.38,-78.75 1400.08,-67.57 1420.37,-57.59\"/>\n",
       "<polygon fill=\"black\" stroke=\"black\" points=\"1422.09,-60.64 1429.51,-53.09 1419,-54.36 1422.09,-60.64\"/>\n",
       "</g>\n",
       "</g>\n",
       "</svg>\n"
      ],
      "text/plain": [
       "<graphviz.sources.Source at 0x272464f7a00>"
      ]
     },
     "execution_count": 7,
     "metadata": {},
     "output_type": "execute_result"
    }
   ],
   "source": [
    "clf = DecisionTreeClassifier(random_state=100, max_depth = 4).fit(X_train, y_train)\n",
    "\n",
    "dot_data = export_graphviz(clf, out_file=None, \n",
    "                                feature_names=X_train.columns,  \n",
    "                                filled=True)\n",
    "\n",
    "graph = graphviz.Source(dot_data, format=\"png\") \n",
    "graph"
   ]
  },
  {
   "cell_type": "code",
   "execution_count": 8,
   "metadata": {},
   "outputs": [
    {
     "data": {
      "text/plain": [
       "53 tGravityAcc-min()-X                0.282630\n",
       "382 fBodyAccJerk-bandsEnergy()-1,8    0.254515\n",
       "560 angle(Y,gravityMean)              0.171064\n",
       "dtype: float64"
      ]
     },
     "execution_count": 8,
     "metadata": {},
     "output_type": "execute_result"
    }
   ],
   "source": [
    "importancia = pd.Series(clf.feature_importances_, index = X_train.columns)\n",
    "importancia.sort_values(ascending = False, inplace = True)\n",
    "importancia.head(3)"
   ]
  },
  {
   "cell_type": "markdown",
   "metadata": {},
   "source": [
    "### 4. Construa uma árvore com as 3 melhores variáveis\n",
    "\n",
    "Utilizando as três variáveis encontradas acima, construa uma árvore de decisão. Encontre o melhor ```ccp_alpha``` utilizando a base de validação, conforme a estrutura que vimos em aula."
   ]
  },
  {
   "cell_type": "code",
   "execution_count": 9,
   "metadata": {},
   "outputs": [],
   "source": [
    "X_train_cut = X_train[['53 tGravityAcc-min()-X','382 fBodyAccJerk-bandsEnergy()-1,8','560 angle(Y,gravityMean)']]\n",
    "X_valid_cut = X_valid[['53 tGravityAcc-min()-X','382 fBodyAccJerk-bandsEnergy()-1,8','560 angle(Y,gravityMean)']]\n",
    "X_test_cut = X_test[['53 tGravityAcc-min()-X','382 fBodyAccJerk-bandsEnergy()-1,8','560 angle(Y,gravityMean)']]"
   ]
  },
  {
   "cell_type": "code",
   "execution_count": 10,
   "metadata": {},
   "outputs": [],
   "source": [
    "clf = DecisionTreeClassifier(random_state=100, min_samples_leaf = 20).fit(X_train_cut, y_train)"
   ]
  },
  {
   "cell_type": "code",
   "execution_count": 11,
   "metadata": {},
   "outputs": [
    {
     "data": {
      "text/plain": [
       "array([0.00000000e+00, 8.72499834e-06, 1.18819807e-05, 1.22476252e-05,\n",
       "       1.27220264e-05, 1.35732258e-05, 1.44718861e-05, 1.61750434e-05,\n",
       "       1.64247439e-05, 4.04342029e-05, 4.37757182e-05, 4.46914348e-05,\n",
       "       4.66345406e-05, 5.15157728e-05, 6.07089600e-05, 6.79032653e-05,\n",
       "       9.13009089e-05, 1.02975363e-04, 1.05209802e-04, 1.37019360e-04,\n",
       "       1.62028964e-04, 1.80057796e-04, 1.82944887e-04, 1.99567796e-04,\n",
       "       2.50381565e-04, 2.88521779e-04, 3.51072513e-04, 3.51399950e-04,\n",
       "       3.56118310e-04, 3.80765795e-04, 4.23155216e-04, 4.23950370e-04,\n",
       "       4.39652235e-04, 4.50738329e-04, 4.56635143e-04, 4.59436586e-04,\n",
       "       4.61909629e-04, 4.96623302e-04, 4.98351324e-04, 5.26134878e-04,\n",
       "       5.87184924e-04, 5.89721558e-04, 6.40361331e-04, 6.57337940e-04,\n",
       "       6.95330738e-04, 6.98067847e-04, 7.08635383e-04, 7.24630266e-04,\n",
       "       7.49133077e-04, 8.15218199e-04, 8.48147630e-04, 9.75661645e-04,\n",
       "       9.92596071e-04, 1.00315063e-03, 1.03263621e-03, 1.03348526e-03,\n",
       "       1.06364437e-03, 1.08416028e-03, 1.18585040e-03, 1.34193880e-03,\n",
       "       1.40353351e-03, 1.46603666e-03, 1.66760057e-03, 1.68700303e-03,\n",
       "       1.68782107e-03, 1.87754455e-03, 1.97472392e-03, 2.14622647e-03,\n",
       "       2.49884313e-03, 2.54199923e-03, 2.88685606e-03, 2.96133612e-03,\n",
       "       3.03345349e-03, 3.18143362e-03, 3.32222243e-03, 4.57399133e-03,\n",
       "       4.65751799e-03, 7.41227186e-03, 8.85563180e-03, 1.36553944e-02,\n",
       "       4.31255693e-02, 6.76426397e-02, 1.12586704e-01, 1.67509884e-01,\n",
       "       1.86014110e-01])"
      ]
     },
     "execution_count": 11,
     "metadata": {},
     "output_type": "execute_result"
    }
   ],
   "source": [
    "path = DecisionTreeClassifier(random_state=100, min_samples_leaf = 20).cost_complexity_pruning_path(X_train_cut, y_train)\n",
    "ccp_alphas, impurities = path.ccp_alphas, path.impurities\n",
    "ccp_alphas"
   ]
  },
  {
   "cell_type": "code",
   "execution_count": 12,
   "metadata": {},
   "outputs": [
    {
     "data": {
      "text/plain": [
       "array([0.00000000e+00, 1.27220264e-05, 1.64247439e-05, 4.66345406e-05,\n",
       "       9.13009089e-05, 1.62028964e-04, 2.50381565e-04, 3.56118310e-04,\n",
       "       4.39652235e-04, 4.61909629e-04, 5.87184924e-04, 6.95330738e-04,\n",
       "       7.49133077e-04, 9.92596071e-04, 1.06364437e-03, 1.40353351e-03,\n",
       "       1.68782107e-03, 2.49884313e-03, 3.03345349e-03, 4.65751799e-03,\n",
       "       4.31255693e-02, 1.86014110e-01])"
      ]
     },
     "execution_count": 12,
     "metadata": {},
     "output_type": "execute_result"
    }
   ],
   "source": [
    "ccp_alphas = ccp_alphas[::4]\n",
    "ccp_alphas"
   ]
  },
  {
   "cell_type": "code",
   "execution_count": 13,
   "metadata": {},
   "outputs": [
    {
     "name": "stdout",
     "output_type": "stream",
     "text": [
      "CPU times: total: 422 ms\n",
      "Wall time: 424 ms\n"
     ]
    }
   ],
   "source": [
    "%%time\n",
    "\n",
    "clfs = []\n",
    "for ccp_alpha in ccp_alphas:\n",
    "    clf = DecisionTreeClassifier(random_state=100, ccp_alpha=ccp_alpha).fit(X_train_cut, y_train)\n",
    "    clfs.append(clf)"
   ]
  },
  {
   "cell_type": "code",
   "execution_count": 14,
   "metadata": {},
   "outputs": [],
   "source": [
    "train_scores = [clf.score(X_train_cut, y_train) for clf in clfs]\n",
    "valid_scores = [clf.score(X_valid_cut, y_valid) for clf in clfs]"
   ]
  },
  {
   "cell_type": "code",
   "execution_count": 15,
   "metadata": {},
   "outputs": [
    {
     "data": {
      "image/png": "[encoded data removed]",
      "text/plain": [
       "<Figure size 432x288 with 1 Axes>"
      ]
     },
     "metadata": {
      "needs_background": "light"
     },
     "output_type": "display_data"
    }
   ],
   "source": [
    "fig, ax = plt.subplots()\n",
    "ax.set_xlabel(\"alpha\")\n",
    "ax.set_ylabel(\"Acurácia\")\n",
    "ax.set_title(\"Acurácia x alpha do conjunto de dados de treino e validação\")\n",
    "ax.plot(ccp_alphas, train_scores, marker='o', label=\"treino\",\n",
    "        drawstyle=\"steps-post\")\n",
    "ax.plot(ccp_alphas, valid_scores, marker='o', label=\"validação\",\n",
    "        drawstyle=\"steps-post\")\n",
    "ax.legend()\n",
    "plt.show()"
   ]
  },
  {
   "cell_type": "code",
   "execution_count": 16,
   "metadata": {},
   "outputs": [
    {
     "data": {
      "text/plain": [
       "DecisionTreeClassifier(ccp_alpha=0.00043965223508205106, random_state=100)"
      ]
     },
     "execution_count": 16,
     "metadata": {},
     "output_type": "execute_result"
    }
   ],
   "source": [
    "ind_melhor_arvore = len(valid_scores) - valid_scores[::-1].index(max(valid_scores)) - 1\n",
    "melhor_arvore = clfs[ind_melhor_arvore]\n",
    "melhor_arvore"
   ]
  },
  {
   "cell_type": "code",
   "execution_count": 17,
   "metadata": {},
   "outputs": [
    {
     "name": "stderr",
     "output_type": "stream",
     "text": [
      "C:\\Users\\BOI\\Anaconda\\lib\\site-packages\\sklearn\\utils\\deprecation.py:87: FutureWarning: Function plot_confusion_matrix is deprecated; Function `plot_confusion_matrix` is deprecated in 1.0 and will be removed in 1.2. Use one of the class methods: ConfusionMatrixDisplay.from_predictions or ConfusionMatrixDisplay.from_estimator.\n",
      "  warnings.warn(msg, category=FutureWarning)\n"
     ]
    },
    {
     "data": {
      "image/png": "[encoded data removed]",
      "text/plain": [
       "<Figure size 432x288 with 2 Axes>"
      ]
     },
     "metadata": {
      "needs_background": "light"
     },
     "output_type": "display_data"
    }
   ],
   "source": [
    "plot_confusion_matrix(melhor_arvore, X_valid_cut, y_valid);"
   ]
  },
  {
   "cell_type": "code",
   "execution_count": 18,
   "metadata": {},
   "outputs": [
    {
     "name": "stdout",
     "output_type": "stream",
     "text": [
      "Acurácia: 88.41\n"
     ]
    }
   ],
   "source": [
    "acuracia_valid = melhor_arvore.score(X_valid_cut, y_valid)\n",
    "\n",
    "print(f'Acurácia: {acuracia_valid*100:.2f}')"
   ]
  },
  {
   "cell_type": "markdown",
   "metadata": {},
   "source": [
    "### 5. Avaliação do modelo\n",
    "\n",
    "Avalie a árvore encontrada no item anterior na base de testes."
   ]
  },
  {
   "cell_type": "code",
   "execution_count": 19,
   "metadata": {},
   "outputs": [
    {
     "name": "stdout",
     "output_type": "stream",
     "text": [
      "Acurácia: 72.65\n"
     ]
    },
    {
     "name": "stderr",
     "output_type": "stream",
     "text": [
      "C:\\Users\\BOI\\Anaconda\\lib\\site-packages\\sklearn\\utils\\deprecation.py:87: FutureWarning: Function plot_confusion_matrix is deprecated; Function `plot_confusion_matrix` is deprecated in 1.0 and will be removed in 1.2. Use one of the class methods: ConfusionMatrixDisplay.from_predictions or ConfusionMatrixDisplay.from_estimator.\n",
      "  warnings.warn(msg, category=FutureWarning)\n"
     ]
    },
    {
     "data": {
      "image/png": "[encoded data removed]",
      "text/plain": [
       "<Figure size 432x288 with 2 Axes>"
      ]
     },
     "metadata": {
      "needs_background": "light"
     },
     "output_type": "display_data"
    }
   ],
   "source": [
    "acuracia_teste = melhor_arvore.score(X_test_cut, y_test)\n",
    "\n",
    "print(f'Acurácia: {acuracia_teste*100:.2f}')\n",
    "plot_confusion_matrix(melhor_arvore, X_test_cut, y_test);"
   ]
  },
  {
   "cell_type": "code",
   "execution_count": null,
   "metadata": {},
   "outputs": [],
   "source": []
  }
 ],
 "metadata": {
  "kernelspec": {
   "display_name": "Python 3 (ipykernel)",
   "language": "python",
   "name": "python3"
  },
  "language_info": {
   "codemirror_mode": {
    "name": "ipython",
    "version": 3
   },
   "file_extension": ".py",
   "mimetype": "text/x-python",
   "name": "python",
   "nbconvert_exporter": "python",
   "pygments_lexer": "ipython3",
   "version": "3.9.12"
  }
 },
 "nbformat": 4,
 "nbformat_minor": 4
}
