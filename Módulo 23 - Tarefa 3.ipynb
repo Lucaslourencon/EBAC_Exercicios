{
 "cells": [
  {
   "cell_type": "markdown",
   "id": "b55b9b7a",
   "metadata": {},
   "source": [
    "# Módulo 23 - Tarefa 03"
   ]
  },
  {
   "cell_type": "markdown",
   "id": "7b38d8fe",
   "metadata": {},
   "source": [
    "- Quais são os hyperparâmetros do Random Forest?\n",
    "- Pra que serve cada um deles?\n"
   ]
  },
  {
   "cell_type": "markdown",
   "id": "d73edb5b",
   "metadata": {},
   "source": [
    "### Hyperparâmetros do Random Forest:\n"
   ]
  },
  {
   "cell_type": "markdown",
   "id": "5e0a67ce",
   "metadata": {},
   "source": [
    "**n_estimators**"
   ]
  },
  {
   "cell_type": "markdown",
   "id": "69b1cc5e",
   "metadata": {},
   "source": [
    "Número de árvores do modelo. Existe o pensamento que quanto mais árvores melhor, porém a partir de determinado número de árvores a performance do modelo fica estagnada, cabe a quem está montando o modelo identificar a partir de qual valor ocorre esta estagnação."
   ]
  },
  {
   "cell_type": "markdown",
   "id": "66c1ba02",
   "metadata": {},
   "source": [
    "**criterion**"
   ]
  },
  {
   "cell_type": "markdown",
   "id": "5b5bfa5b",
   "metadata": {},
   "source": [
    "Escolhe a função que vai medir a qualidade das separações, sendo suportados \"gini\", \"log_loss\" e \"entropy\"."
   ]
  },
  {
   "cell_type": "markdown",
   "id": "44f02fb5",
   "metadata": {},
   "source": [
    "**max_depth**"
   ]
  },
  {
   "cell_type": "markdown",
   "id": "49e0472a",
   "metadata": {},
   "source": [
    "O max_depth de uma árvore no Random Forest é o caminho mais longo entre o nó raiz e o nó folha. Serve para limitar a profundidade que as árvores do modelo crescerão. Valores muito baixos produzirão modelos com pouca acurácia e valores altos produzirão modelos com overfitting nos dados da base treino, diminuindo a acurácia na base teste."
   ]
  },
  {
   "cell_type": "markdown",
   "id": "8e511520",
   "metadata": {},
   "source": [
    "**ccp_alpha**"
   ]
  },
  {
   "cell_type": "markdown",
   "id": "642f723b",
   "metadata": {},
   "source": [
    "Parâmetro utilizado para o Minimal Cost-Complexity Pruning. A sub-árvore com maior complexidade de custo (cost complexity) com valor menor que o informado de ccp_alpha será a escolhida."
   ]
  },
  {
   "cell_type": "markdown",
   "id": "a006f968",
   "metadata": {},
   "source": [
    "**max_samples**"
   ]
  },
  {
   "cell_type": "markdown",
   "id": "5ad6fa1d",
   "metadata": {},
   "source": [
    "Se bootstrap = True, max_samples é a fração do dataset original que vamos oferecer a cada árvore individual. Geralmente não precisamos fornecer toda base de dados para obtermos um modelo com boa acurácia, o que reduz muito o tempo de treinamento do nosso modelo."
   ]
  },
  {
   "cell_type": "markdown",
   "id": "41bf71c7",
   "metadata": {},
   "source": [
    "**min_samples_split**"
   ]
  },
  {
   "cell_type": "markdown",
   "id": "50542a09",
   "metadata": {},
   "source": [
    "Informa o número mínimo necessário de observações em um nó para dividi-lo. Usar apenas esse parâmentro com default = 2 a árvore continua se dividindo até os nós estarem puros, causando overfitting dos dados, semelhante ao max_depth valores muito baixos ou muito altos podem ser prejudiciais ao modelo."
   ]
  },
  {
   "cell_type": "markdown",
   "id": "a4468167",
   "metadata": {},
   "source": [
    "**min_samples_leaf**"
   ]
  },
  {
   "cell_type": "markdown",
   "id": "462a72df",
   "metadata": {},
   "source": [
    "Especifica o número mínimo de amostras que devem estar presentes no nó folha após a divisão de um nó. Valores muito baixos causam overfitting e valores altos deslocam o modelo para o underfitting."
   ]
  },
  {
   "cell_type": "markdown",
   "id": "daf97b6a",
   "metadata": {},
   "source": [
    "**min_weight_fraction_leaf**"
   ]
  },
  {
   "cell_type": "markdown",
   "id": "17f8cdc3",
   "metadata": {},
   "source": [
    "A fração ponderada mínima da soma total de pesos (de todas as amostras de entrada) necessária para estar em um nó folha."
   ]
  },
  {
   "cell_type": "markdown",
   "id": "ab6b4901",
   "metadata": {},
   "source": [
    "**max_features**"
   ]
  },
  {
   "cell_type": "markdown",
   "id": "83541b90",
   "metadata": {},
   "source": [
    "Número máximo de recursos fornecidos a cada árvore. Desempenho tende a aumentar inicialmente proporcionalmente com o aumento do max_features até um momento de saturação, recomenda-se utilizar o padrão do modelo que é raiz quadrada do número de recursos presentes no conjunto de dados, o número ideal geralmente tende a ficar próximo desse valor."
   ]
  },
  {
   "cell_type": "code",
   "execution_count": null,
   "id": "f1a0b600",
   "metadata": {},
   "outputs": [],
   "source": []
  }
 ],
 "metadata": {
  "kernelspec": {
   "display_name": "Python 3 (ipykernel)",
   "language": "python",
   "name": "python3"
  },
  "language_info": {
   "codemirror_mode": {
    "name": "ipython",
    "version": 3
   },
   "file_extension": ".py",
   "mimetype": "text/x-python",
   "name": "python",
   "nbconvert_exporter": "python",
   "pygments_lexer": "ipython3",
   "version": "3.9.12"
  }
 },
 "nbformat": 4,
 "nbformat_minor": 5
}
